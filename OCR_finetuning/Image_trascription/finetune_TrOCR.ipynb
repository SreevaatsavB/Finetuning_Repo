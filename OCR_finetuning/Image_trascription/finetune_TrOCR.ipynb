{
 "cells": [
  {
   "cell_type": "code",
   "execution_count": 1,
   "id": "ab7565c9-c7ca-4134-8f26-289943096522",
   "metadata": {
    "scrolled": true
   },
   "outputs": [
    {
     "name": "stdout",
     "output_type": "stream",
     "text": [
      "Collecting transformers\n",
      "  Downloading transformers-4.52.3-py3-none-any.whl.metadata (40 kB)\n",
      "\u001b[2K     \u001b[90m━━━━━━━━━━━━━━━━━━━━━━━━━━━━━━━━━━━━━━━━\u001b[0m \u001b[32m40.2/40.2 kB\u001b[0m \u001b[31m1.3 MB/s\u001b[0m eta \u001b[36m0:00:00\u001b[0m\n",
      "\u001b[?25hCollecting datasets\n",
      "  Downloading datasets-3.6.0-py3-none-any.whl.metadata (19 kB)\n",
      "Requirement already satisfied: torch in /usr/local/lib/python3.10/dist-packages (2.1.0+cu118)\n",
      "Requirement already satisfied: torchvision in /usr/local/lib/python3.10/dist-packages (0.16.0+cu118)\n",
      "Requirement already satisfied: pillow in /usr/local/lib/python3.10/dist-packages (9.3.0)\n",
      "Requirement already satisfied: azure-ai-formrecognizer in /usr/local/lib/python3.10/dist-packages (3.3.3)\n",
      "Collecting evaluate\n",
      "  Downloading evaluate-0.4.3-py3-none-any.whl.metadata (9.2 kB)\n",
      "Collecting jiwer\n",
      "  Downloading jiwer-3.1.0-py3-none-any.whl.metadata (2.6 kB)\n",
      "Requirement already satisfied: filelock in /usr/local/lib/python3.10/dist-packages (from transformers) (3.9.0)\n",
      "Collecting huggingface-hub<1.0,>=0.30.0 (from transformers)\n",
      "  Downloading huggingface_hub-0.31.4-py3-none-any.whl.metadata (13 kB)\n",
      "Requirement already satisfied: numpy>=1.17 in /usr/local/lib/python3.10/dist-packages (from transformers) (1.24.1)\n",
      "Requirement already satisfied: packaging>=20.0 in /usr/local/lib/python3.10/dist-packages (from transformers) (23.2)\n",
      "Requirement already satisfied: pyyaml>=5.1 in /usr/local/lib/python3.10/dist-packages (from transformers) (6.0.1)\n",
      "Collecting regex!=2019.12.17 (from transformers)\n",
      "  Downloading regex-2024.11.6-cp310-cp310-manylinux_2_17_x86_64.manylinux2014_x86_64.whl.metadata (40 kB)\n",
      "\u001b[2K     \u001b[90m━━━━━━━━━━━━━━━━━━━━━━━━━━━━━━━━━━━━━━━━\u001b[0m \u001b[32m40.5/40.5 kB\u001b[0m \u001b[31m13.9 MB/s\u001b[0m eta \u001b[36m0:00:00\u001b[0m\n",
      "\u001b[?25hRequirement already satisfied: requests in /usr/local/lib/python3.10/dist-packages (from transformers) (2.31.0)\n",
      "Collecting tokenizers<0.22,>=0.21 (from transformers)\n",
      "  Downloading tokenizers-0.21.1-cp39-abi3-manylinux_2_17_x86_64.manylinux2014_x86_64.whl.metadata (6.8 kB)\n",
      "Collecting safetensors>=0.4.3 (from transformers)\n",
      "  Downloading safetensors-0.5.3-cp38-abi3-manylinux_2_17_x86_64.manylinux2014_x86_64.whl.metadata (3.8 kB)\n",
      "Requirement already satisfied: tqdm>=4.27 in /usr/local/lib/python3.10/dist-packages (from transformers) (4.67.1)\n",
      "Collecting pyarrow>=15.0.0 (from datasets)\n",
      "  Downloading pyarrow-20.0.0-cp310-cp310-manylinux_2_28_x86_64.whl.metadata (3.3 kB)\n",
      "Collecting dill<0.3.9,>=0.3.0 (from datasets)\n",
      "  Downloading dill-0.3.8-py3-none-any.whl.metadata (10 kB)\n",
      "Requirement already satisfied: pandas in /usr/local/lib/python3.10/dist-packages (from datasets) (2.2.3)\n",
      "Collecting requests (from transformers)\n",
      "  Downloading requests-2.32.3-py3-none-any.whl.metadata (4.6 kB)\n",
      "Collecting xxhash (from datasets)\n",
      "  Downloading xxhash-3.5.0-cp310-cp310-manylinux_2_17_x86_64.manylinux2014_x86_64.whl.metadata (12 kB)\n",
      "Collecting multiprocess<0.70.17 (from datasets)\n",
      "  Downloading multiprocess-0.70.16-py310-none-any.whl.metadata (7.2 kB)\n",
      "Requirement already satisfied: fsspec<=2025.3.0,>=2023.1.0 in /usr/local/lib/python3.10/dist-packages (from fsspec[http]<=2025.3.0,>=2023.1.0->datasets) (2023.4.0)\n",
      "Requirement already satisfied: typing-extensions in /usr/local/lib/python3.10/dist-packages (from torch) (4.13.2)\n",
      "Requirement already satisfied: sympy in /usr/local/lib/python3.10/dist-packages (from torch) (1.12)\n",
      "Requirement already satisfied: networkx in /usr/local/lib/python3.10/dist-packages (from torch) (3.0)\n",
      "Requirement already satisfied: jinja2 in /usr/local/lib/python3.10/dist-packages (from torch) (3.1.2)\n",
      "Requirement already satisfied: triton==2.1.0 in /usr/local/lib/python3.10/dist-packages (from torch) (2.1.0)\n",
      "Requirement already satisfied: azure-core>=1.23.0 in /usr/local/lib/python3.10/dist-packages (from azure-ai-formrecognizer) (1.34.0)\n",
      "Requirement already satisfied: msrest>=0.6.21 in /usr/local/lib/python3.10/dist-packages (from azure-ai-formrecognizer) (0.7.1)\n",
      "Requirement already satisfied: azure-common>=1.1 in /usr/local/lib/python3.10/dist-packages (from azure-ai-formrecognizer) (1.1.28)\n",
      "Collecting click>=8.1.8 (from jiwer)\n",
      "  Downloading click-8.2.1-py3-none-any.whl.metadata (2.5 kB)\n",
      "Collecting rapidfuzz>=3.9.7 (from jiwer)\n",
      "  Downloading rapidfuzz-3.13.0-cp310-cp310-manylinux_2_17_x86_64.manylinux2014_x86_64.whl.metadata (12 kB)\n",
      "Requirement already satisfied: six>=1.11.0 in /usr/lib/python3/dist-packages (from azure-core>=1.23.0->azure-ai-formrecognizer) (1.16.0)\n",
      "Collecting aiohttp!=4.0.0a0,!=4.0.0a1 (from fsspec[http]<=2025.3.0,>=2023.1.0->datasets)\n",
      "  Downloading aiohttp-3.11.18-cp310-cp310-manylinux_2_17_x86_64.manylinux2014_x86_64.whl.metadata (7.7 kB)\n",
      "INFO: pip is looking at multiple versions of huggingface-hub to determine which version is compatible with other requirements. This could take a while.\n",
      "Collecting huggingface-hub<1.0,>=0.30.0 (from transformers)\n",
      "  Downloading huggingface_hub-0.31.2-py3-none-any.whl.metadata (13 kB)\n",
      "  Downloading huggingface_hub-0.31.1-py3-none-any.whl.metadata (13 kB)\n",
      "  Downloading huggingface_hub-0.31.0-py3-none-any.whl.metadata (13 kB)\n",
      "  Downloading huggingface_hub-0.30.2-py3-none-any.whl.metadata (13 kB)\n",
      "  Downloading huggingface_hub-0.30.1-py3-none-any.whl.metadata (13 kB)\n",
      "  Downloading huggingface_hub-0.30.0-py3-none-any.whl.metadata (13 kB)\n",
      "Collecting fsspec[http]<=2025.3.0,>=2023.1.0 (from datasets)\n",
      "  Downloading fsspec-2025.3.0-py3-none-any.whl.metadata (11 kB)\n",
      "Requirement already satisfied: certifi>=2017.4.17 in /usr/local/lib/python3.10/dist-packages (from msrest>=0.6.21->azure-ai-formrecognizer) (2022.12.7)\n",
      "Requirement already satisfied: isodate>=0.6.0 in /usr/local/lib/python3.10/dist-packages (from msrest>=0.6.21->azure-ai-formrecognizer) (0.7.2)\n",
      "Requirement already satisfied: requests-oauthlib>=0.5.0 in /usr/local/lib/python3.10/dist-packages (from msrest>=0.6.21->azure-ai-formrecognizer) (2.0.0)\n",
      "Requirement already satisfied: charset-normalizer<4,>=2 in /usr/local/lib/python3.10/dist-packages (from requests->transformers) (2.1.1)\n",
      "Requirement already satisfied: idna<4,>=2.5 in /usr/local/lib/python3.10/dist-packages (from requests->transformers) (3.4)\n",
      "Requirement already satisfied: urllib3<3,>=1.21.1 in /usr/local/lib/python3.10/dist-packages (from requests->transformers) (1.26.13)\n",
      "Requirement already satisfied: MarkupSafe>=2.0 in /usr/local/lib/python3.10/dist-packages (from jinja2->torch) (2.1.2)\n",
      "Requirement already satisfied: python-dateutil>=2.8.2 in /usr/local/lib/python3.10/dist-packages (from pandas->datasets) (2.8.2)\n",
      "Requirement already satisfied: pytz>=2020.1 in /usr/local/lib/python3.10/dist-packages (from pandas->datasets) (2025.2)\n",
      "Requirement already satisfied: tzdata>=2022.7 in /usr/local/lib/python3.10/dist-packages (from pandas->datasets) (2025.2)\n",
      "Requirement already satisfied: mpmath>=0.19 in /usr/local/lib/python3.10/dist-packages (from sympy->torch) (1.3.0)\n",
      "Collecting aiohappyeyeballs>=2.3.0 (from aiohttp!=4.0.0a0,!=4.0.0a1->fsspec[http]<=2025.3.0,>=2023.1.0->datasets)\n",
      "  Downloading aiohappyeyeballs-2.6.1-py3-none-any.whl.metadata (5.9 kB)\n",
      "Collecting aiosignal>=1.1.2 (from aiohttp!=4.0.0a0,!=4.0.0a1->fsspec[http]<=2025.3.0,>=2023.1.0->datasets)\n",
      "  Downloading aiosignal-1.3.2-py2.py3-none-any.whl.metadata (3.8 kB)\n",
      "Collecting async-timeout<6.0,>=4.0 (from aiohttp!=4.0.0a0,!=4.0.0a1->fsspec[http]<=2025.3.0,>=2023.1.0->datasets)\n",
      "  Downloading async_timeout-5.0.1-py3-none-any.whl.metadata (5.1 kB)\n",
      "Requirement already satisfied: attrs>=17.3.0 in /usr/local/lib/python3.10/dist-packages (from aiohttp!=4.0.0a0,!=4.0.0a1->fsspec[http]<=2025.3.0,>=2023.1.0->datasets) (23.1.0)\n",
      "Collecting frozenlist>=1.1.1 (from aiohttp!=4.0.0a0,!=4.0.0a1->fsspec[http]<=2025.3.0,>=2023.1.0->datasets)\n",
      "  Downloading frozenlist-1.6.0-cp310-cp310-manylinux_2_5_x86_64.manylinux1_x86_64.manylinux_2_17_x86_64.manylinux2014_x86_64.whl.metadata (16 kB)\n",
      "Collecting multidict<7.0,>=4.5 (from aiohttp!=4.0.0a0,!=4.0.0a1->fsspec[http]<=2025.3.0,>=2023.1.0->datasets)\n",
      "  Downloading multidict-6.4.4-cp310-cp310-manylinux_2_17_x86_64.manylinux2014_x86_64.whl.metadata (5.3 kB)\n",
      "Collecting propcache>=0.2.0 (from aiohttp!=4.0.0a0,!=4.0.0a1->fsspec[http]<=2025.3.0,>=2023.1.0->datasets)\n",
      "  Downloading propcache-0.3.1-cp310-cp310-manylinux_2_17_x86_64.manylinux2014_x86_64.whl.metadata (10 kB)\n",
      "Collecting yarl<2.0,>=1.17.0 (from aiohttp!=4.0.0a0,!=4.0.0a1->fsspec[http]<=2025.3.0,>=2023.1.0->datasets)\n",
      "  Downloading yarl-1.20.0-cp310-cp310-manylinux_2_17_x86_64.manylinux2014_x86_64.whl.metadata (72 kB)\n",
      "\u001b[2K     \u001b[90m━━━━━━━━━━━━━━━━━━━━━━━━━━━━━━━━━━━━━━━━\u001b[0m \u001b[32m72.4/72.4 kB\u001b[0m \u001b[31m24.5 MB/s\u001b[0m eta \u001b[36m0:00:00\u001b[0m\n",
      "\u001b[?25hRequirement already satisfied: oauthlib>=3.0.0 in /usr/lib/python3/dist-packages (from requests-oauthlib>=0.5.0->msrest>=0.6.21->azure-ai-formrecognizer) (3.2.0)\n",
      "Downloading transformers-4.52.3-py3-none-any.whl (10.5 MB)\n",
      "\u001b[2K   \u001b[90m━━━━━━━━━━━━━━━━━━━━━━━━━━━━━━━━━━━━━━━━\u001b[0m \u001b[32m10.5/10.5 MB\u001b[0m \u001b[31m206.1 MB/s\u001b[0m eta \u001b[36m0:00:00\u001b[0m \u001b[36m0:00:01\u001b[0m\n",
      "\u001b[?25hDownloading datasets-3.6.0-py3-none-any.whl (491 kB)\n",
      "\u001b[2K   \u001b[90m━━━━━━━━━━━━━━━━━━━━━━━━━━━━━━━━━━━━━━━\u001b[0m \u001b[32m491.5/491.5 kB\u001b[0m \u001b[31m122.5 MB/s\u001b[0m eta \u001b[36m0:00:00\u001b[0m\n",
      "\u001b[?25hDownloading evaluate-0.4.3-py3-none-any.whl (84 kB)\n",
      "\u001b[2K   \u001b[90m━━━━━━━━━━━━━━━━━━━━━━━━━━━━━━━━━━━━━━━━\u001b[0m \u001b[32m84.0/84.0 kB\u001b[0m \u001b[31m33.6 MB/s\u001b[0m eta \u001b[36m0:00:00\u001b[0m\n",
      "\u001b[?25hDownloading jiwer-3.1.0-py3-none-any.whl (22 kB)\n",
      "Downloading click-8.2.1-py3-none-any.whl (102 kB)\n",
      "\u001b[2K   \u001b[90m━━━━━━━━━━━━━━━━━━━━━━━━━━━━━━━━━━━━━━━━\u001b[0m \u001b[32m102.2/102.2 kB\u001b[0m \u001b[31m41.2 MB/s\u001b[0m eta \u001b[36m0:00:00\u001b[0m\n",
      "\u001b[?25hDownloading dill-0.3.8-py3-none-any.whl (116 kB)\n",
      "\u001b[2K   \u001b[90m━━━━━━━━━━━━━━━━━━━━━━━━━━━━━━━━━━━━━━━━\u001b[0m \u001b[32m116.3/116.3 kB\u001b[0m \u001b[31m46.9 MB/s\u001b[0m eta \u001b[36m0:00:00\u001b[0m\n",
      "\u001b[?25hDownloading fsspec-2025.3.0-py3-none-any.whl (193 kB)\n",
      "\u001b[2K   \u001b[90m━━━━━━━━━━━━━━━━━━━━━━━━━━━━━━━━━━━━━━━━\u001b[0m \u001b[32m193.6/193.6 kB\u001b[0m \u001b[31m68.5 MB/s\u001b[0m eta \u001b[36m0:00:00\u001b[0m\n",
      "\u001b[?25hDownloading huggingface_hub-0.31.4-py3-none-any.whl (489 kB)\n",
      "\u001b[2K   \u001b[90m━━━━━━━━━━━━━━━━━━━━━━━━━━━━━━━━━━━━━━━\u001b[0m \u001b[32m489.3/489.3 kB\u001b[0m \u001b[31m123.5 MB/s\u001b[0m eta \u001b[36m0:00:00\u001b[0m\n",
      "\u001b[?25hDownloading multiprocess-0.70.16-py310-none-any.whl (134 kB)\n",
      "\u001b[2K   \u001b[90m━━━━━━━━━━━━━━━━━━━━━━━━━━━━━━━━━━━━━━━━\u001b[0m \u001b[32m134.8/134.8 kB\u001b[0m \u001b[31m53.0 MB/s\u001b[0m eta \u001b[36m0:00:00\u001b[0m\n",
      "\u001b[?25hDownloading pyarrow-20.0.0-cp310-cp310-manylinux_2_28_x86_64.whl (42.3 MB)\n",
      "\u001b[2K   \u001b[90m━━━━━━━━━━━━━━━━━━━━━━━━━━━━━━━━━━━━━━━━\u001b[0m \u001b[32m42.3/42.3 MB\u001b[0m \u001b[31m168.4 MB/s\u001b[0m eta \u001b[36m0:00:00\u001b[0m00:01\u001b[0m00:01\u001b[0m\n",
      "\u001b[?25hDownloading rapidfuzz-3.13.0-cp310-cp310-manylinux_2_17_x86_64.manylinux2014_x86_64.whl (3.1 MB)\n",
      "\u001b[2K   \u001b[90m━━━━━━━━━━━━━━━━━━━━━━━━━━━━━━━━━━━━━━━━\u001b[0m \u001b[32m3.1/3.1 MB\u001b[0m \u001b[31m285.4 MB/s\u001b[0m eta \u001b[36m0:00:00\u001b[0m\n",
      "\u001b[?25hDownloading regex-2024.11.6-cp310-cp310-manylinux_2_17_x86_64.manylinux2014_x86_64.whl (781 kB)\n",
      "\u001b[2K   \u001b[90m━━━━━━━━━━━━━━━━━━━━━━━━━━━━━━━━━━━━━━━\u001b[0m \u001b[32m781.7/781.7 kB\u001b[0m \u001b[31m188.4 MB/s\u001b[0m eta \u001b[36m0:00:00\u001b[0m\n",
      "\u001b[?25hDownloading requests-2.32.3-py3-none-any.whl (64 kB)\n",
      "\u001b[2K   \u001b[90m━━━━━━━━━━━━━━━━━━━━━━━━━━━━━━━━━━━━━━━━\u001b[0m \u001b[32m64.9/64.9 kB\u001b[0m \u001b[31m39.3 MB/s\u001b[0m eta \u001b[36m0:00:00\u001b[0m\n",
      "\u001b[?25hDownloading safetensors-0.5.3-cp38-abi3-manylinux_2_17_x86_64.manylinux2014_x86_64.whl (471 kB)\n",
      "\u001b[2K   \u001b[90m━━━━━━━━━━━━━━━━━━━━━━━━━━━━━━━━━━━━━━━\u001b[0m \u001b[32m471.6/471.6 kB\u001b[0m \u001b[31m178.0 MB/s\u001b[0m eta \u001b[36m0:00:00\u001b[0m\n",
      "\u001b[?25hDownloading tokenizers-0.21.1-cp39-abi3-manylinux_2_17_x86_64.manylinux2014_x86_64.whl (3.0 MB)\n",
      "\u001b[2K   \u001b[90m━━━━━━━━━━━━━━━━━━━━━━━━━━━━━━━━━━━━━━━━\u001b[0m \u001b[32m3.0/3.0 MB\u001b[0m \u001b[31m291.8 MB/s\u001b[0m eta \u001b[36m0:00:00\u001b[0m\n",
      "\u001b[?25hDownloading xxhash-3.5.0-cp310-cp310-manylinux_2_17_x86_64.manylinux2014_x86_64.whl (194 kB)\n",
      "\u001b[2K   \u001b[90m━━━━━━━━━━━━━━━━━━━━━━━━━━━━━━━━━━━━━━━\u001b[0m \u001b[32m194.1/194.1 kB\u001b[0m \u001b[31m109.8 MB/s\u001b[0m eta \u001b[36m0:00:00\u001b[0m\n",
      "\u001b[?25hDownloading aiohttp-3.11.18-cp310-cp310-manylinux_2_17_x86_64.manylinux2014_x86_64.whl (1.6 MB)\n",
      "\u001b[2K   \u001b[90m━━━━━━━━━━━━━━━━━━━━━━━━━━━━━━━━━━━━━━━━\u001b[0m \u001b[32m1.6/1.6 MB\u001b[0m \u001b[31m286.0 MB/s\u001b[0m eta \u001b[36m0:00:00\u001b[0m\n",
      "\u001b[?25hDownloading aiohappyeyeballs-2.6.1-py3-none-any.whl (15 kB)\n",
      "Downloading aiosignal-1.3.2-py2.py3-none-any.whl (7.6 kB)\n",
      "Downloading async_timeout-5.0.1-py3-none-any.whl (6.2 kB)\n",
      "Downloading frozenlist-1.6.0-cp310-cp310-manylinux_2_5_x86_64.manylinux1_x86_64.manylinux_2_17_x86_64.manylinux2014_x86_64.whl (287 kB)\n",
      "\u001b[2K   \u001b[90m━━━━━━━━━━━━━━━━━━━━━━━━━━━━━━━━━━━━━━━\u001b[0m \u001b[32m287.3/287.3 kB\u001b[0m \u001b[31m141.9 MB/s\u001b[0m eta \u001b[36m0:00:00\u001b[0m\n",
      "\u001b[?25hDownloading multidict-6.4.4-cp310-cp310-manylinux_2_17_x86_64.manylinux2014_x86_64.whl (219 kB)\n",
      "\u001b[2K   \u001b[90m━━━━━━━━━━━━━━━━━━━━━━━━━━━━━━━━━━━━━━━\u001b[0m \u001b[32m219.1/219.1 kB\u001b[0m \u001b[31m126.2 MB/s\u001b[0m eta \u001b[36m0:00:00\u001b[0m\n",
      "\u001b[?25hDownloading propcache-0.3.1-cp310-cp310-manylinux_2_17_x86_64.manylinux2014_x86_64.whl (206 kB)\n",
      "\u001b[2K   \u001b[90m━━━━━━━━━━━━━━━━━━━━━━━━━━━━━━━━━━━━━━━\u001b[0m \u001b[32m206.6/206.6 kB\u001b[0m \u001b[31m118.7 MB/s\u001b[0m eta \u001b[36m0:00:00\u001b[0m\n",
      "\u001b[?25hDownloading yarl-1.20.0-cp310-cp310-manylinux_2_17_x86_64.manylinux2014_x86_64.whl (333 kB)\n",
      "\u001b[2K   \u001b[90m━━━━━━━━━━━━━━━━━━━━━━━━━━━━━━━━━━━━━━━\u001b[0m \u001b[32m333.9/333.9 kB\u001b[0m \u001b[31m162.5 MB/s\u001b[0m eta \u001b[36m0:00:00\u001b[0m\n",
      "\u001b[?25hInstalling collected packages: xxhash, safetensors, requests, regex, rapidfuzz, pyarrow, propcache, multidict, fsspec, frozenlist, dill, click, async-timeout, aiohappyeyeballs, yarl, multiprocess, jiwer, huggingface-hub, aiosignal, tokenizers, aiohttp, transformers, datasets, evaluate\n",
      "  Attempting uninstall: requests\n",
      "    Found existing installation: requests 2.31.0\n",
      "    Uninstalling requests-2.31.0:\n",
      "      Successfully uninstalled requests-2.31.0\n",
      "  Attempting uninstall: fsspec\n",
      "    Found existing installation: fsspec 2023.4.0\n",
      "    Uninstalling fsspec-2023.4.0:\n",
      "      Successfully uninstalled fsspec-2023.4.0\n",
      "Successfully installed aiohappyeyeballs-2.6.1 aiohttp-3.11.18 aiosignal-1.3.2 async-timeout-5.0.1 click-8.2.1 datasets-3.6.0 dill-0.3.8 evaluate-0.4.3 frozenlist-1.6.0 fsspec-2025.3.0 huggingface-hub-0.31.4 jiwer-3.1.0 multidict-6.4.4 multiprocess-0.70.16 propcache-0.3.1 pyarrow-20.0.0 rapidfuzz-3.13.0 regex-2024.11.6 requests-2.32.3 safetensors-0.5.3 tokenizers-0.21.1 transformers-4.52.3 xxhash-3.5.0 yarl-1.20.0\n",
      "\u001b[33mWARNING: Running pip as the 'root' user can result in broken permissions and conflicting behaviour with the system package manager. It is recommended to use a virtual environment instead: https://pip.pypa.io/warnings/venv\u001b[0m\u001b[33m\n",
      "\u001b[0m\n",
      "\u001b[1m[\u001b[0m\u001b[34;49mnotice\u001b[0m\u001b[1;39;49m]\u001b[0m\u001b[39;49m A new release of pip is available: \u001b[0m\u001b[31;49m23.3.1\u001b[0m\u001b[39;49m -> \u001b[0m\u001b[32;49m25.1.1\u001b[0m\n",
      "\u001b[1m[\u001b[0m\u001b[34;49mnotice\u001b[0m\u001b[1;39;49m]\u001b[0m\u001b[39;49m To update, run: \u001b[0m\u001b[32;49mpython -m pip install --upgrade pip\u001b[0m\n"
     ]
    }
   ],
   "source": [
    "!pip install transformers datasets torch torchvision pillow azure-ai-formrecognizer evaluate jiwer\n"
   ]
  },
  {
   "cell_type": "code",
   "execution_count": 1,
   "id": "77d15f10-aaf0-4dbd-b43f-02766fe92e05",
   "metadata": {},
   "outputs": [],
   "source": [
    "import os\n",
    "import json\n",
    "import torch\n",
    "from PIL import Image\n",
    "import numpy as np\n",
    "from pathlib import Path\n",
    "import cv2\n",
    "from typing import List, Dict, Tuple\n",
    "from tqdm import tqdm\n",
    "import matplotlib.pyplot as plt\n",
    "from sklearn.model_selection import train_test_split\n"
   ]
  },
  {
   "cell_type": "code",
   "execution_count": 2,
   "id": "f8dbf827-1f80-42a7-9925-6813e02d5c1b",
   "metadata": {},
   "outputs": [
    {
     "name": "stdout",
     "output_type": "stream",
     "text": [
      "All libraries imported successfully!\n"
     ]
    }
   ],
   "source": [
    "from transformers import (\n",
    "    TrOCRProcessor, \n",
    "    VisionEncoderDecoderModel,\n",
    "    Seq2SeqTrainer, \n",
    "    Seq2SeqTrainingArguments,\n",
    "    default_data_collator\n",
    ")\n",
    "from torch.utils.data import Dataset\n",
    "import evaluate\n",
    "\n",
    "# Azure imports\n",
    "from azure.ai.formrecognizer import DocumentAnalysisClient\n",
    "from azure.core.credentials import AzureKeyCredential\n",
    "\n",
    "print(\"All libraries imported successfully!\")"
   ]
  },
  {
   "cell_type": "code",
   "execution_count": null,
   "id": "76ba99b4-d9e2-4e3f-bf98-3ad529be5713",
   "metadata": {},
   "outputs": [],
   "source": [
    "AZURE_ENDPOINT = os.getenv(\"AZURE_ENDPOINT\")\n",
    "AZURE_KEY = os.getenv(\"AZURE_KEY\")\n"
   ]
  },
  {
   "cell_type": "code",
   "execution_count": 4,
   "id": "ed2c58c5-715a-408b-b4b5-b1c47f6ef69c",
   "metadata": {},
   "outputs": [],
   "source": [
    "# INPUT_IMAGES_DIR = \"input_images\"\n",
    "# OUTPUT_DIR = \"trocr_training_data\"\n",
    "# MODEL_OUTPUT_DIR = \"fine_tuned_trocr\"\n",
    "\n",
    "# os.makedirs(OUTPUT_DIR, exist_ok=True)\n",
    "# os.makedirs(MODEL_OUTPUT_DIR, exist_ok=True)"
   ]
  },
  {
   "cell_type": "markdown",
   "id": "26220cb9",
   "metadata": {},
   "source": [
    "## Data Preparation"
   ]
  },
  {
   "cell_type": "code",
   "execution_count": 5,
   "id": "82d380c9-011e-4fe0-a590-4c3bbe21323b",
   "metadata": {},
   "outputs": [],
   "source": [
    "# Paths\n",
    "INPUT_IMAGES_DIR = \"input_images\"\n",
    "OUTPUT_DIR = \"trocr_word_training_data\"  \n",
    "ANNOTATIONS_DIR = \"word_annotations\"\n",
    "VISUALIZATIONS_DIR = \"word_visualizations\" \n",
    "\n",
    "for directory in [OUTPUT_DIR, ANNOTATIONS_DIR, VISUALIZATIONS_DIR]:\n",
    "    os.makedirs(directory, exist_ok=True)"
   ]
  },
  {
   "cell_type": "code",
   "execution_count": 27,
   "id": "a2ce51f4-0805-46c5-86f1-913deee32b9f",
   "metadata": {},
   "outputs": [
    {
     "name": "stdout",
     "output_type": "stream",
     "text": [
      "Processing images and creating WORD region crops...\n"
     ]
    },
    {
     "name": "stderr",
     "output_type": "stream",
     "text": [
      "Processing images:   0%|          | 0/18 [00:00<?, ?it/s]"
     ]
    },
    {
     "name": "stdout",
     "output_type": "stream",
     "text": [
      "Processed img_10.png: 248 word regions\n"
     ]
    },
    {
     "name": "stderr",
     "output_type": "stream",
     "text": [
      "Processing images:   6%|▌         | 1/18 [00:06<01:58,  6.98s/it]"
     ]
    },
    {
     "name": "stdout",
     "output_type": "stream",
     "text": [
      "Processed img_1.png: 232 word regions\n"
     ]
    },
    {
     "name": "stderr",
     "output_type": "stream",
     "text": [
      "Processing images:  11%|█         | 2/18 [00:13<01:45,  6.59s/it]"
     ]
    },
    {
     "name": "stdout",
     "output_type": "stream",
     "text": [
      "Processed img_11.png: 12 word regions\n"
     ]
    },
    {
     "name": "stderr",
     "output_type": "stream",
     "text": [
      "Processing images:  17%|█▋        | 3/18 [00:16<01:18,  5.26s/it]"
     ]
    },
    {
     "name": "stdout",
     "output_type": "stream",
     "text": [
      "Processed img_13.png: 117 word regions\n"
     ]
    },
    {
     "name": "stderr",
     "output_type": "stream",
     "text": [
      "Processing images:  22%|██▏       | 4/18 [00:22<01:12,  5.18s/it]"
     ]
    },
    {
     "name": "stdout",
     "output_type": "stream",
     "text": [
      "Processed img_2.png: 310 word regions\n"
     ]
    },
    {
     "name": "stderr",
     "output_type": "stream",
     "text": [
      "Processing images:  28%|██▊       | 5/18 [00:29<01:17,  6.00s/it]"
     ]
    },
    {
     "name": "stdout",
     "output_type": "stream",
     "text": [
      "Processed img_3.png: 189 word regions\n"
     ]
    },
    {
     "name": "stderr",
     "output_type": "stream",
     "text": [
      "Processing images:  33%|███▎      | 6/18 [00:35<01:11,  5.93s/it]"
     ]
    },
    {
     "name": "stdout",
     "output_type": "stream",
     "text": [
      "Processed img_12.png: 210 word regions\n"
     ]
    },
    {
     "name": "stderr",
     "output_type": "stream",
     "text": [
      "Processing images:  39%|███▉      | 7/18 [00:41<01:06,  6.08s/it]"
     ]
    },
    {
     "name": "stdout",
     "output_type": "stream",
     "text": [
      "Processed img_16.png: 403 word regions\n"
     ]
    },
    {
     "name": "stderr",
     "output_type": "stream",
     "text": [
      "Processing images:  44%|████▍     | 8/18 [00:50<01:08,  6.89s/it]"
     ]
    },
    {
     "name": "stdout",
     "output_type": "stream",
     "text": [
      "Processed img_7.png: 453 word regions\n"
     ]
    },
    {
     "name": "stderr",
     "output_type": "stream",
     "text": [
      "Processing images:  50%|█████     | 9/18 [00:59<01:09,  7.68s/it]"
     ]
    },
    {
     "name": "stdout",
     "output_type": "stream",
     "text": [
      "Processed img_6.png: 301 word regions\n"
     ]
    },
    {
     "name": "stderr",
     "output_type": "stream",
     "text": [
      "Processing images:  56%|█████▌    | 10/18 [01:07<01:00,  7.62s/it]"
     ]
    },
    {
     "name": "stdout",
     "output_type": "stream",
     "text": [
      "Processed img_17.png: 303 word regions\n"
     ]
    },
    {
     "name": "stderr",
     "output_type": "stream",
     "text": [
      "Processing images:  61%|██████    | 11/18 [01:14<00:52,  7.54s/it]"
     ]
    },
    {
     "name": "stdout",
     "output_type": "stream",
     "text": [
      "Processed img_15.png: 168 word regions\n"
     ]
    },
    {
     "name": "stderr",
     "output_type": "stream",
     "text": [
      "Processing images:  67%|██████▋   | 12/18 [01:20<00:42,  7.07s/it]"
     ]
    },
    {
     "name": "stdout",
     "output_type": "stream",
     "text": [
      "Processed img_4.png: 152 word regions\n"
     ]
    },
    {
     "name": "stderr",
     "output_type": "stream",
     "text": [
      "Processing images:  72%|███████▏  | 13/18 [01:26<00:32,  6.59s/it]"
     ]
    },
    {
     "name": "stdout",
     "output_type": "stream",
     "text": [
      "Processed img_5.png: 237 word regions\n"
     ]
    },
    {
     "name": "stderr",
     "output_type": "stream",
     "text": [
      "Processing images:  78%|███████▊  | 14/18 [01:33<00:27,  6.86s/it]"
     ]
    },
    {
     "name": "stdout",
     "output_type": "stream",
     "text": [
      "Processed img_14.png: 158 word regions\n"
     ]
    },
    {
     "name": "stderr",
     "output_type": "stream",
     "text": [
      "Processing images:  83%|████████▎ | 15/18 [01:38<00:19,  6.34s/it]"
     ]
    },
    {
     "name": "stdout",
     "output_type": "stream",
     "text": [
      "Processed denial.png: 376 word regions\n"
     ]
    },
    {
     "name": "stderr",
     "output_type": "stream",
     "text": [
      "Processing images:  89%|████████▉ | 16/18 [01:46<00:13,  6.83s/it]"
     ]
    },
    {
     "name": "stdout",
     "output_type": "stream",
     "text": [
      "Processed img_8.png: 183 word regions\n"
     ]
    },
    {
     "name": "stderr",
     "output_type": "stream",
     "text": [
      "Processing images:  94%|█████████▍| 17/18 [01:52<00:06,  6.49s/it]"
     ]
    },
    {
     "name": "stdout",
     "output_type": "stream",
     "text": [
      "Processed img_9.png: 209 word regions\n"
     ]
    },
    {
     "name": "stderr",
     "output_type": "stream",
     "text": [
      "Processing images: 100%|██████████| 18/18 [01:58<00:00,  6.59s/it]"
     ]
    },
    {
     "name": "stdout",
     "output_type": "stream",
     "text": [
      "Total WORD regions extracted: 4261\n"
     ]
    },
    {
     "name": "stderr",
     "output_type": "stream",
     "text": [
      "\n"
     ]
    }
   ],
   "source": [
    "import time\n",
    "class AzureWordExtractor:\n",
    "    def __init__(self, endpoint: str, key: str):\n",
    "        self.client = DocumentAnalysisClient(\n",
    "            endpoint=endpoint,\n",
    "            credential=AzureKeyCredential(key)\n",
    "        )\n",
    "    \n",
    "    def extract_word_regions(self, image_path: str) -> List[Dict]:\n",
    "        \"\"\"Extract WORD regions and their content using Azure OCR\"\"\"\n",
    "        \n",
    "        with open(image_path, \"rb\") as f:\n",
    "            poller = self.client.begin_analyze_document(\"prebuilt-read\", document=f)\n",
    "        result = poller.result()\n",
    "        \n",
    "        # Load image to get dimensions\n",
    "        img = cv2.imread(image_path)\n",
    "        img_height, img_width = img.shape[:2]\n",
    "        \n",
    "        word_regions = []\n",
    "        \n",
    "        for page_idx, page in enumerate(result.pages):\n",
    "            # Extract WORDS instead of lines\n",
    "            for word_idx, word in enumerate(page.words if hasattr(page, 'words') else []):\n",
    "                if word.polygon and len(word.polygon) >= 4:\n",
    "                    # Get bounding box coordinates\n",
    "                    x_coords = [point.x for point in word.polygon]\n",
    "                    y_coords = [point.y for point in word.polygon]\n",
    "                    \n",
    "                    x_min, x_max = int(min(x_coords)), int(max(x_coords))\n",
    "                    y_min, y_max = int(min(y_coords)), int(max(y_coords))\n",
    "                    \n",
    "                    # Add padding\n",
    "                    padding = 3  # Smaller padding for words\n",
    "                    x_min = max(0, x_min - padding)\n",
    "                    y_min = max(0, y_min - padding)\n",
    "                    x_max = min(img_width, x_max + padding)\n",
    "                    y_max = min(img_height, y_max + padding)\n",
    "                    \n",
    "                    # Filter out very small words or single characters\n",
    "                    word_text = word.content.strip()\n",
    "                    bbox_width = x_max - x_min\n",
    "                    bbox_height = y_max - y_min\n",
    "                    \n",
    "                    # Skip very small or single character words\n",
    "                    if len(word_text) >= 2 and bbox_width >= 10 and bbox_height >= 8:\n",
    "                        word_regions.append({\n",
    "                            'bbox': [x_min, y_min, x_max, y_max],\n",
    "                            'text': word_text,\n",
    "                            'confidence': getattr(word, 'confidence', 1.0),\n",
    "                            'word_id': f\"{Path(image_path).stem}_word_{word_idx}\"\n",
    "                        })\n",
    "        \n",
    "        return word_regions\n",
    "\n",
    "azure_word_extractor = AzureWordExtractor(AZURE_ENDPOINT, AZURE_KEY)\n",
    "\n",
    "def crop_word_regions(image_path: str, word_regions: List[Dict], output_dir: str) -> List[Dict]:\n",
    "    \"\"\"Crop WORD regions from image and save as individual images\"\"\"\n",
    "    \n",
    "    img = cv2.imread(image_path)\n",
    "    img_rgb = cv2.cvtColor(img, cv2.COLOR_BGR2RGB)\n",
    "    \n",
    "    cropped_word_data = []\n",
    "    \n",
    "    for region in word_regions:\n",
    "        bbox = region['bbox']\n",
    "        x_min, y_min, x_max, y_max = bbox\n",
    "        \n",
    "        # Additional filtering\n",
    "        word_text = region['text'].strip()\n",
    "        bbox_width = x_max - x_min\n",
    "        bbox_height = y_max - y_min\n",
    "        \n",
    "        # Crop the word region\n",
    "        cropped_img = img_rgb[y_min:y_max, x_min:x_max]\n",
    "        \n",
    "        if cropped_img.size == 0:\n",
    "            continue\n",
    "        \n",
    "        # Save cropped image\n",
    "        crop_filename = f\"{region['word_id']}.jpg\"\n",
    "        crop_path = os.path.join(output_dir, crop_filename)\n",
    "        \n",
    "        # Convert to PIL and save\n",
    "        pil_img = Image.fromarray(cropped_img)\n",
    "        pil_img.save(crop_path)\n",
    "        \n",
    "        cropped_word_data.append({\n",
    "            'image_path': crop_path,\n",
    "            'text': word_text,\n",
    "            'confidence': region['confidence'],\n",
    "            'original_image': image_path,\n",
    "            'bbox': bbox\n",
    "        })\n",
    "    \n",
    "    return cropped_word_data\n",
    "\n",
    "# Cell 5: Process All Images for Words\n",
    "print(\"Processing images and creating WORD region crops...\")\n",
    "\n",
    "all_word_data = []\n",
    "image_files = list(Path(INPUT_IMAGES_DIR).glob(\"*.jpg\")) + \\\n",
    "              list(Path(INPUT_IMAGES_DIR).glob(\"*.png\")) + \\\n",
    "              list(Path(INPUT_IMAGES_DIR).glob(\"*.jpeg\"))\n",
    "\n",
    "word_crops_dir = os.path.join(OUTPUT_DIR, \"cropped_word_regions\")\n",
    "os.makedirs(word_crops_dir, exist_ok=True)\n",
    "\n",
    "for image_path in tqdm(image_files, desc=\"Processing images\"):\n",
    "    try:\n",
    "        # Extract WORD regions using Azure OCR\n",
    "        word_regions = azure_word_extractor.extract_word_regions(str(image_path))\n",
    "        \n",
    "        # Crop word regions\n",
    "        word_data = crop_word_regions(str(image_path), word_regions, word_crops_dir)\n",
    "        all_word_data.extend(word_data)\n",
    "        \n",
    "        print(f\"Processed {image_path.name}: {len(word_data)} word regions\")\n",
    "        \n",
    "        # Add delay to respect Azure rate limits\n",
    "        time.sleep(1.0)\n",
    "        \n",
    "    except Exception as e:\n",
    "        print(f\"Error processing {image_path}: {e}\")\n",
    "\n",
    "print(f\"Total WORD regions extracted: {len(all_word_data)}\")"
   ]
  },
  {
   "cell_type": "code",
   "execution_count": 30,
   "id": "a94e16a7-21c4-40a6-942c-645a2cf8a869",
   "metadata": {},
   "outputs": [
    {
     "name": "stdout",
     "output_type": "stream",
     "text": [
      "📊 WORD Dataset Analysis:\n",
      "Total word samples: 4261\n",
      "Unique words: 2139\n",
      "Average word length: 5.7 characters\n",
      "Word length range: 2 - 31 characters\n",
      "Average confidence: 0.987\n",
      "\n",
      "Most common words:\n",
      "  'of': 84 times\n",
      "  'the': 70 times\n",
      "  'and': 62 times\n",
      "  'for': 48 times\n",
      "  'to': 43 times\n",
      "  'is': 36 times\n",
      "  'sleep': 31 times\n",
      "  'on': 29 times\n",
      "  'with': 26 times\n",
      "  'Sleep': 26 times\n",
      "\n",
      "Word length distribution:\n",
      "  2 chars: 569 words\n",
      "  3 chars: 630 words\n",
      "  4 chars: 564 words\n",
      "  5 chars: 600 words\n",
      "  6 chars: 425 words\n",
      "  7 chars: 377 words\n",
      "  8 chars: 344 words\n",
      "  9 chars: 261 words\n",
      "  10 chars: 226 words\n",
      "  11 chars: 110 words\n",
      "Visualizing sample word crops...\n"
     ]
    },
    {
     "data": {
      "image/png": "[encoded data removed]",
      "text/plain": [
       "<Figure size 1600x800 with 12 Axes>"
      ]
     },
     "metadata": {},
     "output_type": "display_data"
    }
   ],
   "source": [
    "import pandas as pd\n",
    "def analyze_word_dataset(word_data: List[Dict]) -> pd.DataFrame:\n",
    "    \"\"\"Analyze the word dataset\"\"\"\n",
    "    \n",
    "    stats_data = []\n",
    "    \n",
    "    # Overall statistics\n",
    "    total_words = len(word_data)\n",
    "    word_lengths = [len(item['text']) for item in word_data]\n",
    "    confidences = [item['confidence'] for item in word_data]\n",
    "    \n",
    "    # Text statistics\n",
    "    all_texts = [item['text'] for item in word_data]\n",
    "    unique_words = len(set(all_texts))\n",
    "    \n",
    "    # Common words\n",
    "    from collections import Counter\n",
    "    word_counts = Counter(all_texts)\n",
    "    most_common = word_counts.most_common(10)\n",
    "    \n",
    "    print(\"📊 WORD Dataset Analysis:\")\n",
    "    print(f\"Total word samples: {total_words}\")\n",
    "    print(f\"Unique words: {unique_words}\")\n",
    "    print(f\"Average word length: {np.mean(word_lengths):.1f} characters\")\n",
    "    print(f\"Word length range: {min(word_lengths)} - {max(word_lengths)} characters\")\n",
    "    print(f\"Average confidence: {np.mean(confidences):.3f}\")\n",
    "    \n",
    "    print(f\"\\nMost common words:\")\n",
    "    for word, count in most_common:\n",
    "        print(f\"  '{word}': {count} times\")\n",
    "    \n",
    "    # Length distribution\n",
    "    length_dist = Counter(word_lengths)\n",
    "    print(f\"\\nWord length distribution:\")\n",
    "    for length in sorted(length_dist.keys())[:10]:\n",
    "        print(f\"  {length} chars: {length_dist[length]} words\")\n",
    "    \n",
    "    return word_data\n",
    "\n",
    "# Analyze the word dataset\n",
    "analyzed_data = analyze_word_dataset(all_word_data)\n",
    "\n",
    "# Cell 8: Visualize Word Samples\n",
    "def visualize_word_samples(word_data: List[Dict], num_samples: int = 12):\n",
    "    \"\"\"Visualize sample word crops\"\"\"\n",
    "    \n",
    "    fig, axes = plt.subplots(3, 4, figsize=(16, 8))\n",
    "    axes = axes.flatten()\n",
    "    \n",
    "    # Sample random words\n",
    "    import random\n",
    "    sample_words = random.sample(word_data, min(num_samples, len(word_data)))\n",
    "    \n",
    "    for i, word_item in enumerate(sample_words):\n",
    "        if i >= num_samples:\n",
    "            break\n",
    "            \n",
    "        # Load and display image\n",
    "        try:\n",
    "            img = Image.open(word_item['image_path'])\n",
    "            axes[i].imshow(img)\n",
    "            axes[i].set_title(f\"'{word_item['text']}'\", fontsize=10)\n",
    "            axes[i].axis('off')\n",
    "        except:\n",
    "            axes[i].text(0.5, 0.5, 'Error loading image', ha='center', va='center')\n",
    "            axes[i].axis('off')\n",
    "    \n",
    "    # Hide unused subplots\n",
    "    for i in range(len(sample_words), num_samples):\n",
    "        axes[i].axis('off')\n",
    "    \n",
    "    plt.suptitle(\"Sample Word Crops for TrOCR Training\", fontsize=14)\n",
    "    plt.tight_layout()\n",
    "    plt.show()\n",
    "\n",
    "# Visualize samples\n",
    "if all_word_data:\n",
    "    print(\"Visualizing sample word crops...\")\n",
    "    visualize_word_samples(all_word_data)\n"
   ]
  },
  {
   "cell_type": "code",
   "execution_count": 33,
   "id": "67c05caf-4ae0-4bec-ac0a-abc7411fb22c",
   "metadata": {},
   "outputs": [
    {
     "name": "stdout",
     "output_type": "stream",
     "text": [
      "Word dataset info saved!\n"
     ]
    }
   ],
   "source": [
    "word_dataset_info = {\n",
    "    'total_samples': len(all_word_data),\n",
    "    'samples': all_word_data,\n",
    "    'extraction_type': 'words',  # Changed from 'lines'\n",
    "}\n",
    "\n",
    "with open(os.path.join(OUTPUT_DIR, 'word_dataset_info.json'), 'w') as f:\n",
    "    json.dump(word_dataset_info, f, indent=2)\n",
    "\n",
    "print(f\"Word dataset info saved!\")"
   ]
  },
  {
   "cell_type": "code",
   "execution_count": 8,
   "id": "5e45c1d7-3b7f-47c9-bb07-2c20c8915552",
   "metadata": {},
   "outputs": [],
   "source": [
    "import os\n",
    "import json\n",
    "\n",
    "file_path = os.path.join(OUTPUT_DIR, 'word_dataset_info.json')\n",
    "\n",
    "with open(file_path, 'r') as f:\n",
    "    saved_data = json.load(f)\n",
    "\n",
    "all_word_data = saved_data[\"samples\"]"
   ]
  },
  {
   "cell_type": "code",
   "execution_count": 9,
   "id": "9ed058e3-5cec-4134-b7cc-bbdf05f54dcd",
   "metadata": {},
   "outputs": [
    {
     "name": "stdout",
     "output_type": "stream",
     "text": [
      "Word dataset splits:\n",
      "  Train: 2982 words\n",
      "  Validation: 639 words\n",
      "  Test: 640 words\n"
     ]
    }
   ],
   "source": [
    "\n",
    "# Cell 9: Create TrOCR Word Dataset Structure\n",
    "def create_word_dataset_splits(word_data: List[Dict], output_dir: str):\n",
    "    \"\"\"Create train/val/test splits for word-level TrOCR training\"\"\"\n",
    "    \n",
    "    # Split data\n",
    "    train_words, temp_words = train_test_split(word_data, test_size=0.3, random_state=42)\n",
    "    val_words, test_words = train_test_split(temp_words, test_size=0.5, random_state=42)\n",
    "    \n",
    "    splits = {\n",
    "        'train': train_words,\n",
    "        'val': val_words,\n",
    "        'test': test_words\n",
    "    }\n",
    "    \n",
    "    print(f\"Word dataset splits:\")\n",
    "    print(f\"  Train: {len(train_words)} words\")\n",
    "    print(f\"  Validation: {len(val_words)} words\")\n",
    "    print(f\"  Test: {len(test_words)} words\")\n",
    "    \n",
    "    # Save splits\n",
    "    for split_name, split_data in splits.items():\n",
    "        split_file = os.path.join(output_dir, f'{split_name}_words.json')\n",
    "        with open(split_file, 'w') as f:\n",
    "            json.dump(split_data, f, indent=2)\n",
    "    \n",
    "    return splits\n",
    "\n",
    "# Create word dataset splits\n",
    "word_splits = create_word_dataset_splits(all_word_data, OUTPUT_DIR)\n"
   ]
  },
  {
   "cell_type": "code",
   "execution_count": null,
   "id": "63db99bf-288d-4dc8-825e-458527198de5",
   "metadata": {},
   "outputs": [],
   "source": []
  },
  {
   "cell_type": "code",
   "execution_count": null,
   "id": "c9c2ca4e-f48a-46d4-adce-2f69436f0afc",
   "metadata": {},
   "outputs": [],
   "source": []
  },
  {
   "cell_type": "code",
   "execution_count": null,
   "id": "f5c8ebf6-ee31-4b88-a3e8-05a6530c5855",
   "metadata": {},
   "outputs": [],
   "source": []
  },
  {
   "cell_type": "markdown",
   "id": "da4133ac",
   "metadata": {},
   "source": [
    "## Fine-tuning the model"
   ]
  },
  {
   "cell_type": "code",
   "execution_count": null,
   "id": "06727c29-1d79-465e-b27a-7e22fd2a26e3",
   "metadata": {},
   "outputs": [],
   "source": [
    "class TrOCRDataset(Dataset):\n",
    "    def __init__(self, data_list: List[Dict], processor, max_target_length: int = 128):\n",
    "        self.data_list = data_list\n",
    "        self.processor = processor\n",
    "        self.max_target_length = max_target_length\n",
    "    \n",
    "    def __len__(self):\n",
    "        return len(self.data_list)\n",
    "    \n",
    "    def __getitem__(self, idx):\n",
    "        item = self.data_list[idx]\n",
    "        \n",
    "        # Load and process image\n",
    "        image = Image.open(item['image_path']).convert('RGB')\n",
    "        \n",
    "        # Process image\n",
    "        pixel_values = self.processor(image, return_tensors=\"pt\").pixel_values.squeeze()\n",
    "        \n",
    "        # Process text (labels)\n",
    "        text = item['text']\n",
    "        labels = self.processor.tokenizer(\n",
    "            text,\n",
    "            padding=\"max_length\",\n",
    "            max_length=self.max_target_length,\n",
    "            truncation=True,\n",
    "            return_tensors=\"pt\"\n",
    "        ).input_ids.squeeze()\n",
    "        \n",
    "        # Replace pad tokens with -100 (ignored in loss calculation)\n",
    "        labels[labels == self.processor.tokenizer.pad_token_id] = -100\n",
    "        \n",
    "        return {\n",
    "            \"pixel_values\": pixel_values,\n",
    "            \"labels\": labels\n",
    "        }\n"
   ]
  },
  {
   "cell_type": "code",
   "execution_count": 12,
   "id": "8b5a8eb0-a78a-4577-964d-4540160bb345",
   "metadata": {
    "scrolled": true
   },
   "outputs": [
    {
     "name": "stdout",
     "output_type": "stream",
     "text": [
      "PyTorch version is compatible\n"
     ]
    }
   ],
   "source": [
    "if hasattr(torch, 'get_default_device'):\n",
    "    print(\"PyTorch version is compatible\")\n",
    "else:\n",
    "    print(\"PyTorch version is too old, upgrading...\")\n",
    "    \n",
    "    # Upgrade PyTorch\n",
    "    !pip install --upgrade torch torchvision torchaudio --index-url https://download.pytorch.org/whl/cu118\n",
    "    \n",
    "    print(\"PyTorch upgraded! Please restart your kernel and run this cell again.\")\n"
   ]
  },
  {
   "cell_type": "code",
   "execution_count": 13,
   "id": "69765993-31fd-45f2-88a7-3b881e2fd473",
   "metadata": {
    "scrolled": true
   },
   "outputs": [],
   "source": [
    "# !pip install --upgrade torch torchvision torchaudio --index-url https://download.pytorch.org/whl/cu118\n",
    "    \n",
    "# print(\"PyTorch upgraded! Please restart your kernel and run this cell again.\")"
   ]
  },
  {
   "cell_type": "code",
   "execution_count": 50,
   "id": "2ae9cfce-8824-41cd-b9ca-f1131e01c048",
   "metadata": {},
   "outputs": [],
   "source": [
    "import torch\n",
    "from transformers import TrOCRProcessor, VisionEncoderDecoderModel"
   ]
  },
  {
   "cell_type": "code",
   "execution_count": 14,
   "id": "d4d3a1da-5c22-4255-a100-a77da36f8f5e",
   "metadata": {},
   "outputs": [],
   "source": [
    "MODEL_NAME = \"microsoft/trocr-base-printed\"  # or \"microsoft/trocr-base-handwritten\"\n",
    "MAX_TARGET_LENGTH = 100\n",
    "\n",
    "\n",
    "EPOCHS = 5\n",
    "BATCH_SIZE = 8  # Reduce if GPU memory issues\n",
    "LEARNING_RATE = 5e-5"
   ]
  },
  {
   "cell_type": "code",
   "execution_count": 15,
   "id": "d323444c-a7df-43e7-8d22-b80a27bf479c",
   "metadata": {},
   "outputs": [
    {
     "name": "stderr",
     "output_type": "stream",
     "text": [
      "Using a slow image processor as `use_fast` is unset and a slow processor was saved with this model. `use_fast=True` will be the default behavior in v4.52, even if the model was saved with a slow processor. This will result in minor differences in outputs. You'll still be able to use a slow processor with `use_fast=False`.\n"
     ]
    },
    {
     "name": "stdout",
     "output_type": "stream",
     "text": [
      "Setting up TrOCR model and processor...\n"
     ]
    },
    {
     "name": "stderr",
     "output_type": "stream",
     "text": [
      "Some weights of VisionEncoderDecoderModel were not initialized from the model checkpoint at microsoft/trocr-base-printed and are newly initialized: ['encoder.pooler.dense.bias', 'encoder.pooler.dense.weight']\n",
      "You should probably TRAIN this model on a down-stream task to be able to use it for predictions and inference.\n"
     ]
    },
    {
     "name": "stdout",
     "output_type": "stream",
     "text": [
      "Model loaded: microsoft/trocr-base-printed\n",
      "Vocabulary size: 50265\n",
      "Train: 2982, Val: 639, Test: 640\n",
      "Datasets created successfully!\n"
     ]
    }
   ],
   "source": [
    "print(\"Setting up TrOCR model and processor...\")\n",
    "\n",
    "# Load processor and model\n",
    "processor = TrOCRProcessor.from_pretrained(MODEL_NAME)\n",
    "model = VisionEncoderDecoderModel.from_pretrained(MODEL_NAME)\n",
    "\n",
    "# Model configuration\n",
    "model.config.decoder_start_token_id = processor.tokenizer.cls_token_id\n",
    "model.config.pad_token_id = processor.tokenizer.pad_token_id\n",
    "model.config.vocab_size = model.config.decoder.vocab_size\n",
    "model.config.eos_token_id = processor.tokenizer.sep_token_id\n",
    "model.config.max_length = MAX_TARGET_LENGTH\n",
    "model.config.early_stopping = True\n",
    "model.config.no_repeat_ngram_size = 3\n",
    "model.config.length_penalty = 2.0\n",
    "model.config.num_beams = 4\n",
    "\n",
    "print(f\"Model loaded: {MODEL_NAME}\")\n",
    "print(f\"Vocabulary size: {model.config.vocab_size}\")\n",
    "\n",
    "\n",
    "# Split data\n",
    "train_data, temp_data = train_test_split(all_word_data, test_size=0.3, random_state=42)\n",
    "val_data, test_data = train_test_split(temp_data, test_size=0.5, random_state=42)\n",
    "\n",
    "print(f\"Train: {len(train_data)}, Val: {len(val_data)}, Test: {len(test_data)}\")\n",
    "\n",
    "# Create datasets\n",
    "train_dataset = TrOCRDataset(train_data, processor, MAX_TARGET_LENGTH)\n",
    "val_dataset = TrOCRDataset(val_data, processor, MAX_TARGET_LENGTH)\n",
    "test_dataset = TrOCRDataset(test_data, processor, MAX_TARGET_LENGTH)\n",
    "\n",
    "print(\"Datasets created successfully!\")\n"
   ]
  },
  {
   "cell_type": "code",
   "execution_count": 53,
   "id": "a0a82e1f-d228-4a28-b863-d9b005180ea1",
   "metadata": {
    "scrolled": true
   },
   "outputs": [],
   "source": [
    "# !pip install transformers[torch]"
   ]
  },
  {
   "cell_type": "code",
   "execution_count": 17,
   "id": "f8943b91-3e3d-4da1-b4f0-b696a28a4c49",
   "metadata": {
    "scrolled": true
   },
   "outputs": [],
   "source": [
    "# !pip install accelerate\n",
    "# test_dataset\n",
    "\n",
    "MODEL_OUTPUT_DIR = \"fine_tuned_trocr_lora\""
   ]
  },
  {
   "cell_type": "code",
   "execution_count": 18,
   "id": "e2482d5e-ffa6-4aa3-b128-dd4de8039d5f",
   "metadata": {},
   "outputs": [
    {
     "name": "stderr",
     "output_type": "stream",
     "text": [
      "/tmp/ipykernel_24939/210795535.py:39: FutureWarning: `tokenizer` is deprecated and will be removed in version 5.0.0 for `Seq2SeqTrainer.__init__`. Use `processing_class` instead.\n",
      "  trainer = Seq2SeqTrainer(\n"
     ]
    }
   ],
   "source": [
    "training_args = Seq2SeqTrainingArguments(\n",
    "    output_dir=MODEL_OUTPUT_DIR,\n",
    "    per_device_train_batch_size=BATCH_SIZE,\n",
    "    per_device_eval_batch_size=BATCH_SIZE,\n",
    "    predict_with_generate=True,\n",
    "    eval_strategy=\"steps\",\n",
    "    eval_steps=500,\n",
    "    logging_steps=50,\n",
    "    save_steps=500,\n",
    "    save_total_limit=2,\n",
    "    num_train_epochs=EPOCHS,\n",
    "    learning_rate=LEARNING_RATE,\n",
    "    weight_decay=0.01,\n",
    "    warmup_steps=100,\n",
    "    fp16=torch.cuda.is_available(),  # Use mixed precision if GPU available\n",
    "    dataloader_pin_memory=False,\n",
    "    remove_unused_columns=False,\n",
    ")\n",
    "\n",
    "# Evaluation metric\n",
    "cer_metric = evaluate.load(\"cer\")  # Character Error Rate\n",
    "\n",
    "def compute_metrics(eval_pred):\n",
    "    predictions, labels = eval_pred\n",
    "    \n",
    "    # Decode predictions and labels\n",
    "    decoded_preds = processor.batch_decode(predictions, skip_special_tokens=True)\n",
    "    \n",
    "    # Replace -100 in labels with pad_token_id\n",
    "    labels = np.where(labels != -100, labels, processor.tokenizer.pad_token_id)\n",
    "    decoded_labels = processor.batch_decode(labels, skip_special_tokens=True)\n",
    "    \n",
    "    # Compute CER\n",
    "    cer = cer_metric.compute(predictions=decoded_preds, references=decoded_labels)\n",
    "    \n",
    "    return {\"cer\": cer}\n",
    "\n",
    "# Create trainer\n",
    "trainer = Seq2SeqTrainer(\n",
    "    model=model,\n",
    "    args=training_args,\n",
    "    train_dataset=train_dataset,\n",
    "    eval_dataset=val_dataset,\n",
    "    tokenizer=processor.tokenizer,\n",
    "    data_collator=default_data_collator,\n",
    "    compute_metrics=compute_metrics,\n",
    ")\n",
    "\n",
    "\n",
    "\n"
   ]
  },
  {
   "cell_type": "code",
   "execution_count": 19,
   "id": "bee02917-bd84-4b6a-87ac-2d5f9892a592",
   "metadata": {},
   "outputs": [
    {
     "data": {
      "text/plain": [
       "Seq2SeqTrainingArguments(output_dir='fine_tuned_trocr_lora', overwrite_output_dir=False, do_train=False, do_eval=True, do_predict=False, eval_strategy=<IntervalStrategy.STEPS: 'steps'>, prediction_loss_only=False, per_device_train_batch_size=8, per_device_eval_batch_size=8, per_gpu_train_batch_size=None, per_gpu_eval_batch_size=None, gradient_accumulation_steps=1, eval_accumulation_steps=None, eval_delay=0, torch_empty_cache_steps=None, learning_rate=5e-05, weight_decay=0.01, adam_beta1=0.9, adam_beta2=0.999, adam_epsilon=1e-08, max_grad_norm=1.0, num_train_epochs=5, max_steps=-1, lr_scheduler_type=<SchedulerType.LINEAR: 'linear'>, lr_scheduler_kwargs={}, warmup_ratio=0.0, warmup_steps=100, log_level='passive', log_level_replica='warning', log_on_each_node=True, logging_dir='fine_tuned_trocr_lora/runs/May23_12-34-25_c25c8717e0e7', logging_strategy=<IntervalStrategy.STEPS: 'steps'>, logging_first_step=False, logging_steps=50, logging_nan_inf_filter=True, save_strategy=<SaveStrategy.STEPS: 'steps'>, save_steps=500, save_total_limit=2, save_safetensors=True, save_on_each_node=False, save_only_model=False, restore_callback_states_from_checkpoint=False, no_cuda=False, use_cpu=False, use_mps_device=False, seed=42, data_seed=None, jit_mode_eval=False, use_ipex=False, bf16=False, fp16=True, fp16_opt_level='O1', half_precision_backend='auto', bf16_full_eval=False, fp16_full_eval=False, tf32=None, local_rank=0, ddp_backend=None, tpu_num_cores=None, tpu_metrics_debug=False, debug=[], dataloader_drop_last=False, eval_steps=500, dataloader_num_workers=0, dataloader_prefetch_factor=None, past_index=-1, run_name='fine_tuned_trocr_lora', disable_tqdm=False, remove_unused_columns=False, label_names=None, load_best_model_at_end=False, metric_for_best_model=None, greater_is_better=None, ignore_data_skip=False, fsdp=[], fsdp_min_num_params=0, fsdp_config={'min_num_params': 0, 'xla': False, 'xla_fsdp_v2': False, 'xla_fsdp_grad_ckpt': False}, fsdp_transformer_layer_cls_to_wrap=None, accelerator_config=AcceleratorConfig(split_batches=False, dispatch_batches=None, even_batches=True, use_seedable_sampler=True, non_blocking=False, gradient_accumulation_kwargs=None, use_configured_state=False), deepspeed=None, label_smoothing_factor=0.0, optim=<OptimizerNames.ADAMW_TORCH: 'adamw_torch'>, optim_args=None, adafactor=False, group_by_length=False, length_column_name='length', report_to=[], ddp_find_unused_parameters=None, ddp_bucket_cap_mb=None, ddp_broadcast_buffers=None, dataloader_pin_memory=False, dataloader_persistent_workers=False, skip_memory_metrics=True, use_legacy_prediction_loop=False, push_to_hub=False, resume_from_checkpoint=None, hub_model_id=None, hub_strategy=<HubStrategy.EVERY_SAVE: 'every_save'>, hub_token=None, hub_private_repo=None, hub_always_push=False, gradient_checkpointing=False, gradient_checkpointing_kwargs=None, include_inputs_for_metrics=False, include_for_metrics=[], eval_do_concat_batches=True, fp16_backend='auto', push_to_hub_model_id=None, push_to_hub_organization=None, push_to_hub_token=None, mp_parameters='', auto_find_batch_size=False, full_determinism=False, torchdynamo=None, ray_scope='last', ddp_timeout=1800, torch_compile=False, torch_compile_backend=None, torch_compile_mode=None, include_tokens_per_second=False, include_num_input_tokens_seen=False, neftune_noise_alpha=None, optim_target_modules=None, batch_eval_metrics=False, eval_on_start=False, use_liger_kernel=False, eval_use_gather_object=False, average_tokens_across_devices=False, sortish_sampler=False, predict_with_generate=True, generation_max_length=None, generation_num_beams=None, generation_config=None)"
      ]
     },
     "execution_count": 19,
     "metadata": {},
     "output_type": "execute_result"
    }
   ],
   "source": [
    "training_args"
   ]
  },
  {
   "cell_type": "code",
   "execution_count": 20,
   "id": "59974089-f79d-45a2-9f09-107b96d0f397",
   "metadata": {},
   "outputs": [
    {
     "name": "stderr",
     "output_type": "stream",
     "text": [
      "`loss_type=None` was set in the config but it is unrecognised.Using the default loss: `ForCausalLMLoss`.\n"
     ]
    },
    {
     "data": {
      "text/html": [
       "\n",
       "    <div>\n",
       "      \n",
       "      <progress value='1865' max='1865' style='width:300px; height:20px; vertical-align: middle;'></progress>\n",
       "      [1865/1865 12:12, Epoch 5/5]\n",
       "    </div>\n",
       "    <table border=\"1\" class=\"dataframe\">\n",
       "  <thead>\n",
       " <tr style=\"text-align: left;\">\n",
       "      <th>Step</th>\n",
       "      <th>Training Loss</th>\n",
       "      <th>Validation Loss</th>\n",
       "      <th>Cer</th>\n",
       "    </tr>\n",
       "  </thead>\n",
       "  <tbody>\n",
       "    <tr>\n",
       "      <td>500</td>\n",
       "      <td>0.572400</td>\n",
       "      <td>1.150584</td>\n",
       "      <td>0.275007</td>\n",
       "    </tr>\n",
       "    <tr>\n",
       "      <td>1000</td>\n",
       "      <td>0.351400</td>\n",
       "      <td>0.955833</td>\n",
       "      <td>0.222193</td>\n",
       "    </tr>\n",
       "    <tr>\n",
       "      <td>1500</td>\n",
       "      <td>0.128900</td>\n",
       "      <td>0.739296</td>\n",
       "      <td>0.184583</td>\n",
       "    </tr>\n",
       "  </tbody>\n",
       "</table><p>"
      ],
      "text/plain": [
       "<IPython.core.display.HTML object>"
      ]
     },
     "metadata": {},
     "output_type": "display_data"
    },
    {
     "name": "stderr",
     "output_type": "stream",
     "text": [
      "/usr/local/lib/python3.10/dist-packages/transformers/generation/utils.py:1730: UserWarning: You have modified the pretrained model configuration to control generation. This is a deprecated strategy to control generation and will be removed in v5. Please use and modify the model generation configuration (see https://huggingface.co/docs/transformers/generation_strategies#default-text-generation-configuration )\n",
      "  warnings.warn(\n",
      "/usr/local/lib/python3.10/dist-packages/transformers/modeling_utils.py:3464: UserWarning: Moving the following attributes in the config to the generation config: {'max_length': 100, 'early_stopping': True, 'num_beams': 4, 'length_penalty': 2.0, 'no_repeat_ngram_size': 3}. You are seeing this warning because you've set generation parameters in the model config, as opposed to in the generation config.\n",
      "  warnings.warn(\n"
     ]
    },
    {
     "data": {
      "text/plain": [
       "TrainOutput(global_step=1865, training_loss=0.5083706069567887, metrics={'train_runtime': 733.9418, 'train_samples_per_second': 20.315, 'train_steps_per_second': 2.541, 'total_flos': 1.1156932197749883e+19, 'train_loss': 0.5083706069567887, 'epoch': 5.0})"
      ]
     },
     "execution_count": 20,
     "metadata": {},
     "output_type": "execute_result"
    }
   ],
   "source": [
    "# Start training\n",
    "trainer.train()"
   ]
  },
  {
   "cell_type": "code",
   "execution_count": 22,
   "id": "b94a33f6-a5e3-4192-a460-ade69f294143",
   "metadata": {},
   "outputs": [
    {
     "name": "stdout",
     "output_type": "stream",
     "text": [
      "Training completed!\n"
     ]
    },
    {
     "data": {
      "text/plain": [
       "[]"
      ]
     },
     "execution_count": 22,
     "metadata": {},
     "output_type": "execute_result"
    }
   ],
   "source": [
    "print(\"Training completed!\")\n",
    "\n",
    "# Save the final model\n",
    "trainer.save_model()\n",
    "processor.save_pretrained(MODEL_OUTPUT_DIR)\n"
   ]
  },
  {
   "cell_type": "code",
   "execution_count": 24,
   "id": "4624f1f5-c41f-49d3-a873-7095a7025c21",
   "metadata": {},
   "outputs": [],
   "source": [
    "\n",
    "crops_dir = os.path.join(OUTPUT_DIR, \"cropped_word_regions\")\n"
   ]
  },
  {
   "cell_type": "code",
   "execution_count": null,
   "id": "9cd0f2b0-beeb-4fd9-bb20-7ad3b427bb26",
   "metadata": {},
   "outputs": [],
   "source": [
    "print(\"Evaluating model on test set...\")\n",
    "\n",
    "# Evaluate on test set\n",
    "test_results = trainer.evaluate(eval_dataset=test_dataset)\n",
    "print(f\"Test CER: {test_results['eval_cer']:.4f}\")\n",
    "\n",
    "# Cell 12: Test Inference\n",
    "def test_inference(image_path: str, model_path: str = MODEL_OUTPUT_DIR):\n",
    "    \"\"\"Test the trained model on a single image\"\"\"\n",
    "    \n",
    "    # Load trained model and processor\n",
    "    trained_processor = TrOCRProcessor.from_pretrained(model_path)\n",
    "    trained_model = VisionEncoderDecoderModel.from_pretrained(model_path)\n",
    "    \n",
    "    # Load and process image\n",
    "    image = Image.open(image_path).convert('RGB')\n",
    "    pixel_values = trained_processor(image, return_tensors=\"pt\").pixel_values\n",
    "    \n",
    "    # Generate text\n",
    "    generated_ids = trained_model.generate(pixel_values, max_length=MAX_TARGET_LENGTH)\n",
    "    generated_text = trained_processor.batch_decode(generated_ids, skip_special_tokens=True)[0]\n",
    "    \n",
    "    return generated_text\n",
    "\n",
    "# Test on some sample images\n",
    "print(\"Testing inference on sample images...\")\n",
    "\n",
    "# Test on a few cropped regions\n",
    "sample_images = list(Path(crops_dir).glob(\"*.jpg\"))[:5]\n",
    "\n",
    "for img_path in sample_images:\n",
    "    try:\n",
    "        predicted_text = test_inference(str(img_path))\n",
    "        \n",
    "        # Get ground truth\n",
    "        sample_name = img_path.stem\n",
    "        ground_truth = None\n",
    "        for item in all_word_data:\n",
    "            if sample_name in item['image_path']:\n",
    "                ground_truth = item['text']\n",
    "                break\n",
    "        \n",
    "        print(f\"\\nImage: {img_path.name}\")\n",
    "        print(f\"Ground Truth: {ground_truth}\")\n",
    "        print(f\"Predicted:    {predicted_text}\")\n",
    "        print(\"-\" * 50)\n",
    "        \n",
    "    except Exception as e:\n",
    "        print(f\"Error testing {img_path}: {e}\")\n",
    "\n",
    "# Cell 13: Visualize Results\n",
    "def visualize_predictions(image_paths: List[str], model_path: str = MODEL_OUTPUT_DIR):\n",
    "    \"\"\"Visualize model predictions\"\"\"\n",
    "    \n",
    "    trained_processor = TrOCRProcessor.from_pretrained(model_path)\n",
    "    trained_model = VisionEncoderDecoderModel.from_pretrained(model_path)\n",
    "    \n",
    "    fig, axes = plt.subplots(2, 3, figsize=(15, 8))\n",
    "    axes = axes.flatten()\n",
    "    \n",
    "    for i, img_path in enumerate(image_paths[:6]):\n",
    "        # Load image\n",
    "        image = Image.open(img_path).convert('RGB')\n",
    "        \n",
    "        # Get prediction\n",
    "        pixel_values = trained_processor(image, return_tensors=\"pt\").pixel_values\n",
    "        generated_ids = trained_model.generate(pixel_values, max_length=MAX_TARGET_LENGTH)\n",
    "        predicted_text = trained_processor.batch_decode(generated_ids, skip_special_tokens=True)[0]\n",
    "        \n",
    "        # Get ground truth\n",
    "        sample_name = Path(img_path).stem\n",
    "        ground_truth = \"Unknown\"\n",
    "        for item in all_word_data:\n",
    "            if sample_name in item['image_path']:\n",
    "                ground_truth = item['text']\n",
    "                break\n",
    "        \n",
    "        # Display\n",
    "        axes[i].imshow(image)\n",
    "        axes[i].set_title(f\"GT: {ground_truth[:20]}...\\nPred: {predicted_text[:20]}...\", fontsize=8)\n",
    "        axes[i].axis('off')\n",
    "    \n",
    "    plt.tight_layout()\n",
    "    plt.show()\n",
    "\n",
    "# Visualize some results\n",
    "sample_images = list(Path(crops_dir).glob(\"*.jpg\"))[:6]\n",
    "if sample_images:\n",
    "    print(\"Visualizing predictions...\")\n",
    "    visualize_predictions([str(p) for p in sample_images])\n",
    "\n",
    "# Cell 14: Usage Example\n",
    "print(\"=\"*60)\n",
    "print(\"TROCR FINE-TUNING COMPLETED!\")\n",
    "print(\"=\"*60)\n",
    "print(f\"Trained on {len(train_dataset)} text regions\")\n",
    "print(f\"Model saved to: {MODEL_OUTPUT_DIR}\")\n",
    "print(f\"Test CER: {test_results['eval_cer']:.4f}\")\n",
    "\n",
    "\n",
    "print(\"\\n Training Summary:\")\n",
    "print(f\"Model: {MODEL_NAME}\")\n",
    "print(f\"Training samples: {len(train_dataset)}\")\n",
    "print(f\"Validation samples: {len(val_dataset)}\")\n",
    "print(f\"Test samples: {len(test_dataset)}\")\n",
    "print(f\"Epochs: {EPOCHS}\")\n",
    "print(f\"Batch size: {BATCH_SIZE}\")\n",
    "print(f\"Learning rate: {LEARNING_RATE}\")"
   ]
  },
  {
   "cell_type": "code",
   "execution_count": null,
   "id": "de7463a8-2387-41cb-9ffa-5485d74c91ba",
   "metadata": {},
   "outputs": [],
   "source": []
  },
  {
   "cell_type": "code",
   "execution_count": null,
   "id": "d644b99f-71d8-4be8-9194-7c6c11fe0fd7",
   "metadata": {},
   "outputs": [],
   "source": []
  }
 ],
 "metadata": {
  "kernelspec": {
   "display_name": "integuru",
   "language": "python",
   "name": "integuru"
  },
  "language_info": {
   "codemirror_mode": {
    "name": "ipython",
    "version": 3
   },
   "file_extension": ".py",
   "mimetype": "text/x-python",
   "name": "python",
   "nbconvert_exporter": "python",
   "pygments_lexer": "ipython3",
   "version": "3.12.4"
  }
 },
 "nbformat": 4,
 "nbformat_minor": 5
}
