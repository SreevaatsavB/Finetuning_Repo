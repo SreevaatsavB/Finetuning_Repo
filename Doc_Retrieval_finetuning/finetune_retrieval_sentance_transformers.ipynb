{
 "cells": [
  {
   "cell_type": "code",
   "execution_count": 1,
   "id": "5ea0fdd6-a11d-4923-b3aa-77b9e8c526a4",
   "metadata": {},
   "outputs": [
    {
     "name": "stdout",
     "output_type": "stream",
     "text": [
      "Loading Natural Questions dataset...\n"
     ]
    },
    {
     "data": {
      "application/vnd.jupyter.widget-view+json": {
       "model_id": "04979c5dde334fbbae0fb6da5d046d71",
       "version_major": 2,
       "version_minor": 0
      },
      "text/plain": [
       "README.md:   0%|          | 0.00/2.28k [00:00<?, ?B/s]"
      ]
     },
     "metadata": {},
     "output_type": "display_data"
    },
    {
     "name": "stderr",
     "output_type": "stream",
     "text": [
      "Xet Storage is enabled for this repo, but the 'hf_xet' package is not installed. Falling back to regular HTTP download. For better performance, install the package with: `pip install huggingface_hub[hf_xet]` or `pip install hf_xet`\n",
      "2025-05-20 09:47:43 - Xet Storage is enabled for this repo, but the 'hf_xet' package is not installed. Falling back to regular HTTP download. For better performance, install the package with: `pip install huggingface_hub[hf_xet]` or `pip install hf_xet`\n"
     ]
    },
    {
     "data": {
      "application/vnd.jupyter.widget-view+json": {
       "model_id": "65173443538a486d803c759d554dc5fa",
       "version_major": 2,
       "version_minor": 0
      },
      "text/plain": [
       "train-00000-of-00001.parquet:   0%|          | 0.00/44.0M [00:00<?, ?B/s]"
      ]
     },
     "metadata": {},
     "output_type": "display_data"
    },
    {
     "data": {
      "application/vnd.jupyter.widget-view+json": {
       "model_id": "a703411b881c4256a33015e3e42a7978",
       "version_major": 2,
       "version_minor": 0
      },
      "text/plain": [
       "Generating train split:   0%|          | 0/100231 [00:00<?, ? examples/s]"
      ]
     },
     "metadata": {},
     "output_type": "display_data"
    },
    {
     "name": "stdout",
     "output_type": "stream",
     "text": [
      "Full dataset size: 100231\n",
      "Using subset with 5000 examples\n",
      "Train dataset size: 4000\n",
      "Validation dataset size: 500\n",
      "Test dataset size: 500\n",
      "\n",
      "Sample from the dataset:\n",
      "Query: when did the temporary foreign worker program start\n",
      "Answer: Temporary foreign worker program in Canada The Temporary foreign worker program or TFWP is a program of the Government of Canada to allow employers in Canada to hire foreign nationals.[1] When the program started in 1973, most of the workers brought in were high-skill workers such as specialist doctors.[2] In 2002 a \"low-skilled workers\" category was added; this category now makes up most of the temporary foreign workforce.[2][3] In 2006, the program was expanded and fast-tracking introduced for some locations.[2] It was revised again in 2013, raising wages, charging employer fees, and removing the accelerated applications.[4]\n"
     ]
    }
   ],
   "source": [
    "import os\n",
    "import logging\n",
    "import torch\n",
    "import random\n",
    "import numpy as np\n",
    "import pandas as pd\n",
    "import matplotlib.pyplot as plt\n",
    "from datasets import load_dataset, Dataset\n",
    "from sentence_transformers import SentenceTransformer, InputExample, losses\n",
    "from sentence_transformers.evaluation import InformationRetrievalEvaluator\n",
    "from torch.utils.data import DataLoader\n",
    "from huggingface_hub import login\n",
    "\n",
    "logging.basicConfig(format='%(asctime)s - %(message)s', datefmt='%Y-%m-%d %H:%M:%S', level=logging.INFO)\n",
    "\n",
    "random.seed(42)\n",
    "np.random.seed(42)\n",
    "torch.manual_seed(42)\n",
    "if torch.cuda.is_available():\n",
    "    torch.cuda.manual_seed_all(42)\n",
    "\n",
    "\n",
    "dataset = load_dataset(\"sentence-transformers/natural-questions\", split=\"train\")\n",
    "print(f\"Full dataset size: {len(dataset)}\")\n",
    "\n",
    "dataset = dataset.select(range(5000))\n",
    "print(f\"Using subset with {len(dataset)} examples\")\n",
    "\n",
    "train_test_split = dataset.train_test_split(test_size=0.2, seed=42)\n",
    "train_dataset = train_test_split[\"train\"]\n",
    "rest_dataset = train_test_split[\"test\"]\n",
    "val_test_split = rest_dataset.train_test_split(test_size=0.5, seed=42)\n",
    "val_dataset = val_test_split[\"train\"]\n",
    "test_dataset = val_test_split[\"test\"]\n",
    "\n",
    "print(f\"Train dataset size: {len(train_dataset)}\")\n",
    "print(f\"Validation dataset size: {len(val_dataset)}\")\n",
    "print(f\"Test dataset size: {len(test_dataset)}\")\n",
    "\n",
    "sample = train_dataset[0]\n",
    "print(\"\\nSample from the dataset:\")\n",
    "print(f\"Query: {sample['query']}\")\n",
    "print(f\"Answer: {sample['answer']}\")\n",
    "\n",
    "\n"
   ]
  },
  {
   "cell_type": "code",
   "execution_count": null,
   "id": "fab6e9eb-462f-46f0-aa87-f1d6c4e9397a",
   "metadata": {},
   "outputs": [
    {
     "name": "stderr",
     "output_type": "stream",
     "text": [
      "2025-05-20 09:47:52 - Use pytorch device_name: cuda:0\n",
      "2025-05-20 09:47:52 - Load pretrained SentenceTransformer: sentence-transformers/all-MiniLM-L6-v2\n"
     ]
    },
    {
     "name": "stdout",
     "output_type": "stream",
     "text": [
      "\n",
      "Loading base embedding model...\n"
     ]
    },
    {
     "data": {
      "application/vnd.jupyter.widget-view+json": {
       "model_id": "04093aa0e2c2459799fca17fac56d2f1",
       "version_major": 2,
       "version_minor": 0
      },
      "text/plain": [
       "modules.json:   0%|          | 0.00/349 [00:00<?, ?B/s]"
      ]
     },
     "metadata": {},
     "output_type": "display_data"
    },
    {
     "data": {
      "application/vnd.jupyter.widget-view+json": {
       "model_id": "42c0d433982d4b4c989ca85da3a806ee",
       "version_major": 2,
       "version_minor": 0
      },
      "text/plain": [
       "config_sentence_transformers.json:   0%|          | 0.00/116 [00:00<?, ?B/s]"
      ]
     },
     "metadata": {},
     "output_type": "display_data"
    },
    {
     "data": {
      "application/vnd.jupyter.widget-view+json": {
       "model_id": "5ee3c33b013349369d9cac0e90469732",
       "version_major": 2,
       "version_minor": 0
      },
      "text/plain": [
       "README.md:   0%|          | 0.00/10.5k [00:00<?, ?B/s]"
      ]
     },
     "metadata": {},
     "output_type": "display_data"
    },
    {
     "data": {
      "application/vnd.jupyter.widget-view+json": {
       "model_id": "252089a7595349e191e321a0e513bda0",
       "version_major": 2,
       "version_minor": 0
      },
      "text/plain": [
       "sentence_bert_config.json:   0%|          | 0.00/53.0 [00:00<?, ?B/s]"
      ]
     },
     "metadata": {},
     "output_type": "display_data"
    },
    {
     "data": {
      "application/vnd.jupyter.widget-view+json": {
       "model_id": "2c2c497c38ff449eaa4dc54e1a6827b4",
       "version_major": 2,
       "version_minor": 0
      },
      "text/plain": [
       "config.json:   0%|          | 0.00/612 [00:00<?, ?B/s]"
      ]
     },
     "metadata": {},
     "output_type": "display_data"
    },
    {
     "name": "stderr",
     "output_type": "stream",
     "text": [
      "Xet Storage is enabled for this repo, but the 'hf_xet' package is not installed. Falling back to regular HTTP download. For better performance, install the package with: `pip install huggingface_hub[hf_xet]` or `pip install hf_xet`\n",
      "2025-05-20 09:47:54 - Xet Storage is enabled for this repo, but the 'hf_xet' package is not installed. Falling back to regular HTTP download. For better performance, install the package with: `pip install huggingface_hub[hf_xet]` or `pip install hf_xet`\n"
     ]
    },
    {
     "data": {
      "application/vnd.jupyter.widget-view+json": {
       "model_id": "df926c98f0d746ab877c9d58cbba8de2",
       "version_major": 2,
       "version_minor": 0
      },
      "text/plain": [
       "model.safetensors:   0%|          | 0.00/90.9M [00:00<?, ?B/s]"
      ]
     },
     "metadata": {},
     "output_type": "display_data"
    },
    {
     "data": {
      "application/vnd.jupyter.widget-view+json": {
       "model_id": "d5df93e286074295ad583c52f128d3ee",
       "version_major": 2,
       "version_minor": 0
      },
      "text/plain": [
       "tokenizer_config.json:   0%|          | 0.00/350 [00:00<?, ?B/s]"
      ]
     },
     "metadata": {},
     "output_type": "display_data"
    },
    {
     "data": {
      "application/vnd.jupyter.widget-view+json": {
       "model_id": "cead30535766473c9c1bba99eb698b4a",
       "version_major": 2,
       "version_minor": 0
      },
      "text/plain": [
       "vocab.txt:   0%|          | 0.00/232k [00:00<?, ?B/s]"
      ]
     },
     "metadata": {},
     "output_type": "display_data"
    },
    {
     "data": {
      "application/vnd.jupyter.widget-view+json": {
       "model_id": "7e6369802cc64ad8869241867fd17239",
       "version_major": 2,
       "version_minor": 0
      },
      "text/plain": [
       "tokenizer.json:   0%|          | 0.00/466k [00:00<?, ?B/s]"
      ]
     },
     "metadata": {},
     "output_type": "display_data"
    },
    {
     "data": {
      "application/vnd.jupyter.widget-view+json": {
       "model_id": "ed4565ab275f43c2a331ca8dec49e77b",
       "version_major": 2,
       "version_minor": 0
      },
      "text/plain": [
       "special_tokens_map.json:   0%|          | 0.00/112 [00:00<?, ?B/s]"
      ]
     },
     "metadata": {},
     "output_type": "display_data"
    },
    {
     "data": {
      "application/vnd.jupyter.widget-view+json": {
       "model_id": "56bb961a88304ffdb901e5790eb18095",
       "version_major": 2,
       "version_minor": 0
      },
      "text/plain": [
       "config.json:   0%|          | 0.00/190 [00:00<?, ?B/s]"
      ]
     },
     "metadata": {},
     "output_type": "display_data"
    },
    {
     "name": "stdout",
     "output_type": "stream",
     "text": [
      "Base model loaded with dimension: 384\n",
      "\n",
      "Preparing validation data for evaluation...\n",
      "\n",
      "Setting up evaluator...\n"
     ]
    }
   ],
   "source": [
    "# Evaluate the Base Model (Before Fine-tuning)\n",
    "\n",
    "print(\"\\nLoading base embedding model...\")\n",
    "base_model = SentenceTransformer(\"sentence-transformers/all-MiniLM-L6-v2\")\n",
    "print(f\"Base model loaded with dimension: {base_model.get_sentence_embedding_dimension()}\")\n",
    "\n",
    "print(\"\\nPreparing validation data for evaluation...\")\n",
    "\n",
    "corpus = {}\n",
    "for idx, example in enumerate(val_dataset):\n",
    "    corpus[str(idx)] = example[\"answer\"]\n",
    "\n",
    "queries = {}\n",
    "for idx, example in enumerate(val_dataset):\n",
    "    queries[str(idx)] = example[\"query\"]\n",
    "\n",
    "\n",
    "relevance = {}\n",
    "for idx in range(len(val_dataset)):\n",
    "    relevance[str(idx)] = {str(idx): 1}  # Mark corpus item with same ID as relevant\n",
    "\n",
    "print(\"\\nSetting up evaluator...\")\n",
    "evaluator = InformationRetrievalEvaluator(\n",
    "    queries=queries,\n",
    "    corpus=corpus,\n",
    "    relevant_docs=relevance,\n",
    "    name=\"nq-val\",\n",
    "    show_progress_bar=True,\n",
    "    batch_size=16,\n",
    "    corpus_chunk_size=100\n",
    ")"
   ]
  },
  {
   "cell_type": "code",
   "execution_count": 3,
   "id": "23426280-1706-42f9-86e5-939ae7a3fdfc",
   "metadata": {},
   "outputs": [
    {
     "name": "stderr",
     "output_type": "stream",
     "text": [
      "2025-05-20 09:48:22 - Information Retrieval Evaluation of the model on the nq-val dataset:\n"
     ]
    },
    {
     "name": "stdout",
     "output_type": "stream",
     "text": [
      "\n",
      "Evaluating base model...\n"
     ]
    },
    {
     "data": {
      "application/vnd.jupyter.widget-view+json": {
       "model_id": "7c09427935b846768c22b19564c37ab9",
       "version_major": 2,
       "version_minor": 0
      },
      "text/plain": [
       "Batches:   0%|          | 0/32 [00:00<?, ?it/s]"
      ]
     },
     "metadata": {},
     "output_type": "display_data"
    },
    {
     "name": "stderr",
     "output_type": "stream",
     "text": [
      "Corpus Chunks:   0%|          | 0/5 [00:00<?, ?it/s]"
     ]
    },
    {
     "data": {
      "application/vnd.jupyter.widget-view+json": {
       "model_id": "b9ebf85eb5cf46328025b571e0942550",
       "version_major": 2,
       "version_minor": 0
      },
      "text/plain": [
       "Batches:   0%|          | 0/7 [00:00<?, ?it/s]"
      ]
     },
     "metadata": {},
     "output_type": "display_data"
    },
    {
     "name": "stderr",
     "output_type": "stream",
     "text": [
      "Corpus Chunks:  20%|██        | 1/5 [00:00<00:00,  8.64it/s]"
     ]
    },
    {
     "data": {
      "application/vnd.jupyter.widget-view+json": {
       "model_id": "26b5e8e430aa4ec89596a1fa4ac359f4",
       "version_major": 2,
       "version_minor": 0
      },
      "text/plain": [
       "Batches:   0%|          | 0/7 [00:00<?, ?it/s]"
      ]
     },
     "metadata": {},
     "output_type": "display_data"
    },
    {
     "name": "stderr",
     "output_type": "stream",
     "text": [
      "Corpus Chunks:  40%|████      | 2/5 [00:00<00:00,  8.86it/s]"
     ]
    },
    {
     "data": {
      "application/vnd.jupyter.widget-view+json": {
       "model_id": "63ecf0734a314947a17193759b4d1ee5",
       "version_major": 2,
       "version_minor": 0
      },
      "text/plain": [
       "Batches:   0%|          | 0/7 [00:00<?, ?it/s]"
      ]
     },
     "metadata": {},
     "output_type": "display_data"
    },
    {
     "name": "stderr",
     "output_type": "stream",
     "text": [
      "Corpus Chunks:  60%|██████    | 3/5 [00:00<00:00,  8.85it/s]"
     ]
    },
    {
     "data": {
      "application/vnd.jupyter.widget-view+json": {
       "model_id": "192d35b1f351427587ddaf0f7908dfe9",
       "version_major": 2,
       "version_minor": 0
      },
      "text/plain": [
       "Batches:   0%|          | 0/7 [00:00<?, ?it/s]"
      ]
     },
     "metadata": {},
     "output_type": "display_data"
    },
    {
     "name": "stderr",
     "output_type": "stream",
     "text": [
      "Corpus Chunks:  80%|████████  | 4/5 [00:00<00:00,  8.77it/s]"
     ]
    },
    {
     "data": {
      "application/vnd.jupyter.widget-view+json": {
       "model_id": "bdfbfffd99f54d34a06ee6ecc61c4213",
       "version_major": 2,
       "version_minor": 0
      },
      "text/plain": [
       "Batches:   0%|          | 0/7 [00:00<?, ?it/s]"
      ]
     },
     "metadata": {},
     "output_type": "display_data"
    },
    {
     "name": "stderr",
     "output_type": "stream",
     "text": [
      "Corpus Chunks: 100%|██████████| 5/5 [00:00<00:00,  8.75it/s]\n",
      "2025-05-20 09:48:23 - Queries: 500\n",
      "2025-05-20 09:48:23 - Corpus: 500\n",
      "\n",
      "2025-05-20 09:48:23 - Score-Function: cosine\n",
      "2025-05-20 09:48:23 - Accuracy@1: 97.00%\n",
      "2025-05-20 09:48:23 - Accuracy@3: 99.80%\n",
      "2025-05-20 09:48:23 - Accuracy@5: 99.80%\n",
      "2025-05-20 09:48:23 - Accuracy@10: 100.00%\n",
      "2025-05-20 09:48:23 - Precision@1: 97.00%\n",
      "2025-05-20 09:48:23 - Precision@3: 33.27%\n",
      "2025-05-20 09:48:23 - Precision@5: 19.96%\n",
      "2025-05-20 09:48:23 - Precision@10: 10.00%\n",
      "2025-05-20 09:48:23 - Recall@1: 97.00%\n",
      "2025-05-20 09:48:23 - Recall@3: 99.80%\n",
      "2025-05-20 09:48:23 - Recall@5: 99.80%\n",
      "2025-05-20 09:48:23 - Recall@10: 100.00%\n",
      "2025-05-20 09:48:23 - MRR@10: 0.9843\n",
      "2025-05-20 09:48:23 - NDCG@10: 0.9884\n",
      "2025-05-20 09:48:23 - MAP@100: 0.9843\n"
     ]
    },
    {
     "name": "stdout",
     "output_type": "stream",
     "text": [
      "\n",
      "Base model evaluation results:\n",
      "nq-val_cosine_accuracy@1: 0.9700\n",
      "nq-val_cosine_accuracy@3: 0.9980\n",
      "nq-val_cosine_accuracy@5: 0.9980\n",
      "nq-val_cosine_accuracy@10: 1.0000\n",
      "nq-val_cosine_precision@1: 0.9700\n",
      "nq-val_cosine_precision@3: 0.3327\n",
      "nq-val_cosine_precision@5: 0.1996\n",
      "nq-val_cosine_precision@10: 0.1000\n",
      "nq-val_cosine_recall@1: 0.9700\n",
      "nq-val_cosine_recall@3: 0.9980\n",
      "nq-val_cosine_recall@5: 0.9980\n",
      "nq-val_cosine_recall@10: 1.0000\n",
      "nq-val_cosine_ndcg@10: 0.9884\n",
      "nq-val_cosine_mrr@10: 0.9843\n",
      "nq-val_cosine_map@100: 0.9843\n",
      "No NDCG@10 found. Using nq-val_cosine_ndcg@10 for comparison: 0.9884\n"
     ]
    }
   ],
   "source": [
    "print(\"\\nEvaluating base model...\")\n",
    "base_results = evaluator(base_model)\n",
    "\n",
    "print(\"\\nBase model evaluation results:\")\n",
    "for metric, value in base_results.items():\n",
    "    print(f\"{metric}: {value:.4f}\")\n",
    "\n",
    "if 'ndcg_at_10' in base_results:\n",
    "    base_ndcg10 = base_results['ndcg_at_10']\n",
    "    print(f\"Using NDCG@10 for comparison: {base_ndcg10:.4f}\")\n",
    "elif 'ndcg@10' in base_results:\n",
    "    base_ndcg10 = base_results['ndcg@10']\n",
    "    print(f\"Using NDCG@10 for comparison: {base_ndcg10:.4f}\")\n",
    "else:\n",
    "    ndcg_metrics = [m for m in base_results.keys() if 'ndcg' in m.lower()]\n",
    "    if ndcg_metrics:\n",
    "        ndcg_metric = ndcg_metrics[0]\n",
    "        base_ndcg10 = base_results[ndcg_metric]\n",
    "        print(f\"No NDCG@10 found. Using {ndcg_metric} for comparison: {base_ndcg10:.4f}\")\n",
    "    else:\n",
    "        base_ndcg10 = 0.0\n",
    "        print(\"No NDCG metrics found in evaluation results.\")"
   ]
  },
  {
   "cell_type": "code",
   "execution_count": 4,
   "id": "2f08455e-f6ee-4c72-b50b-cb816313c328",
   "metadata": {},
   "outputs": [
    {
     "name": "stdout",
     "output_type": "stream",
     "text": [
      "\n",
      "Preparing training examples...\n",
      "Created 4000 training examples\n"
     ]
    }
   ],
   "source": [
    "## Prepare Training Data for Fine-tuning\n",
    "\n",
    "# pairs of queries and relevant documents\n",
    "print(\"\\nPreparing training examples...\")\n",
    "\n",
    "train_examples = []\n",
    "for example in train_dataset:\n",
    "    # Each query-answer pair is a positive example\n",
    "    train_examples.append(InputExample(\n",
    "        texts=[example[\"query\"], example[\"answer\"]],\n",
    "        label=1.0  # Label is not used for MultipleNegativesRankingLoss but good to include\n",
    "    ))\n",
    "\n",
    "# Create a data loader\n",
    "train_dataloader = DataLoader(train_examples, shuffle=True, batch_size=16)\n",
    "print(f\"Created {len(train_examples)} training examples\")\n"
   ]
  },
  {
   "cell_type": "code",
   "execution_count": 5,
   "id": "47f8ebdb-ff5c-4aaf-8bcc-26b60d47b89d",
   "metadata": {},
   "outputs": [
    {
     "name": "stderr",
     "output_type": "stream",
     "text": [
      "2025-05-20 09:49:52 - Use pytorch device_name: cuda:0\n",
      "2025-05-20 09:49:52 - Load pretrained SentenceTransformer: sentence-transformers/all-MiniLM-L6-v2\n"
     ]
    },
    {
     "name": "stdout",
     "output_type": "stream",
     "text": [
      "\n",
      "Initializing model for fine-tuning...\n",
      "\n",
      "Setting up loss function...\n",
      "\n",
      "Starting training...\n"
     ]
    },
    {
     "data": {
      "application/vnd.jupyter.widget-view+json": {
       "model_id": "",
       "version_major": 2,
       "version_minor": 0
      },
      "text/plain": [
       "Computing widget examples:   0%|          | 0/1 [00:00<?, ?example/s]"
      ]
     },
     "metadata": {},
     "output_type": "display_data"
    },
    {
     "name": "stderr",
     "output_type": "stream",
     "text": [
      "\u001b[34m\u001b[1mwandb\u001b[0m: \u001b[33mWARNING\u001b[0m The `run_name` is currently set to the same value as `TrainingArguments.output_dir`. If this was not intended, please specify a different run name by setting the `TrainingArguments.run_name` parameter.\n",
      "\u001b[34m\u001b[1mwandb\u001b[0m: Logging into wandb.ai. (Learn how to deploy a W&B server locally: https://wandb.me/wandb-server)\n",
      "\u001b[34m\u001b[1mwandb\u001b[0m: You can find your API key in your browser here: https://wandb.ai/authorize?ref=models\n",
      "\u001b[34m\u001b[1mwandb\u001b[0m: Paste an API key from your profile and hit enter:"
     ]
    },
    {
     "name": "stdout",
     "output_type": "stream",
     "text": [
      "  ········\n"
     ]
    },
    {
     "name": "stderr",
     "output_type": "stream",
     "text": [
      "\u001b[34m\u001b[1mwandb\u001b[0m: \u001b[33mWARNING\u001b[0m If you're specifying your api key in code, ensure this code is not shared publicly.\n",
      "\u001b[34m\u001b[1mwandb\u001b[0m: \u001b[33mWARNING\u001b[0m Consider setting the WANDB_API_KEY environment variable, or running `wandb login` from the command line.\n",
      "\u001b[34m\u001b[1mwandb\u001b[0m: No netrc file found, creating one.\n",
      "\u001b[34m\u001b[1mwandb\u001b[0m: Appending key for api.wandb.ai to your netrc file: /root/.netrc\n",
      "\u001b[34m\u001b[1mwandb\u001b[0m: Currently logged in as: \u001b[33mbavanasreevaatsav1\u001b[0m to \u001b[32mhttps://api.wandb.ai\u001b[0m. Use \u001b[1m`wandb login --relogin`\u001b[0m to force relogin\n"
     ]
    },
    {
     "data": {
      "text/html": [
       "Tracking run with wandb version 0.19.11"
      ],
      "text/plain": [
       "<IPython.core.display.HTML object>"
      ]
     },
     "metadata": {},
     "output_type": "display_data"
    },
    {
     "data": {
      "text/html": [
       "Run data is saved locally in <code>/workspace/sentence_transformers/wandb/run-20250520_095113-ky68eqfo</code>"
      ],
      "text/plain": [
       "<IPython.core.display.HTML object>"
      ]
     },
     "metadata": {},
     "output_type": "display_data"
    },
    {
     "data": {
      "text/html": [
       "Syncing run <strong><a href='https://wandb.ai/bavanasreevaatsav1/sentence-transformers/runs/ky68eqfo' target=\"_blank\">checkpoints/model</a></strong> to <a href='https://wandb.ai/bavanasreevaatsav1/sentence-transformers' target=\"_blank\">Weights & Biases</a> (<a href='https://wandb.me/developer-guide' target=\"_blank\">docs</a>)<br>"
      ],
      "text/plain": [
       "<IPython.core.display.HTML object>"
      ]
     },
     "metadata": {},
     "output_type": "display_data"
    },
    {
     "data": {
      "text/html": [
       " View project at <a href='https://wandb.ai/bavanasreevaatsav1/sentence-transformers' target=\"_blank\">https://wandb.ai/bavanasreevaatsav1/sentence-transformers</a>"
      ],
      "text/plain": [
       "<IPython.core.display.HTML object>"
      ]
     },
     "metadata": {},
     "output_type": "display_data"
    },
    {
     "data": {
      "text/html": [
       " View run at <a href='https://wandb.ai/bavanasreevaatsav1/sentence-transformers/runs/ky68eqfo' target=\"_blank\">https://wandb.ai/bavanasreevaatsav1/sentence-transformers/runs/ky68eqfo</a>"
      ],
      "text/plain": [
       "<IPython.core.display.HTML object>"
      ]
     },
     "metadata": {},
     "output_type": "display_data"
    },
    {
     "data": {
      "text/html": [
       "\n",
       "    <div>\n",
       "      \n",
       "      <progress value='750' max='750' style='width:300px; height:20px; vertical-align: middle;'></progress>\n",
       "      [750/750 01:19, Epoch 3/3]\n",
       "    </div>\n",
       "    <table border=\"1\" class=\"dataframe\">\n",
       "  <thead>\n",
       " <tr style=\"text-align: left;\">\n",
       "      <th>Step</th>\n",
       "      <th>Training Loss</th>\n",
       "      <th>Validation Loss</th>\n",
       "      <th>Nq-val Cosine Accuracy@1</th>\n",
       "      <th>Nq-val Cosine Accuracy@3</th>\n",
       "      <th>Nq-val Cosine Accuracy@5</th>\n",
       "      <th>Nq-val Cosine Accuracy@10</th>\n",
       "      <th>Nq-val Cosine Precision@1</th>\n",
       "      <th>Nq-val Cosine Precision@3</th>\n",
       "      <th>Nq-val Cosine Precision@5</th>\n",
       "      <th>Nq-val Cosine Precision@10</th>\n",
       "      <th>Nq-val Cosine Recall@1</th>\n",
       "      <th>Nq-val Cosine Recall@3</th>\n",
       "      <th>Nq-val Cosine Recall@5</th>\n",
       "      <th>Nq-val Cosine Recall@10</th>\n",
       "      <th>Nq-val Cosine Ndcg@10</th>\n",
       "      <th>Nq-val Cosine Mrr@10</th>\n",
       "      <th>Nq-val Cosine Map@100</th>\n",
       "    </tr>\n",
       "  </thead>\n",
       "  <tbody>\n",
       "    <tr>\n",
       "      <td>250</td>\n",
       "      <td>No log</td>\n",
       "      <td>No log</td>\n",
       "      <td>0.976000</td>\n",
       "      <td>0.998000</td>\n",
       "      <td>1.000000</td>\n",
       "      <td>1.000000</td>\n",
       "      <td>0.976000</td>\n",
       "      <td>0.332667</td>\n",
       "      <td>0.200000</td>\n",
       "      <td>0.100000</td>\n",
       "      <td>0.976000</td>\n",
       "      <td>0.998000</td>\n",
       "      <td>1.000000</td>\n",
       "      <td>1.000000</td>\n",
       "      <td>0.990480</td>\n",
       "      <td>0.987167</td>\n",
       "      <td>0.987167</td>\n",
       "    </tr>\n",
       "    <tr>\n",
       "      <td>500</td>\n",
       "      <td>0.006900</td>\n",
       "      <td>No log</td>\n",
       "      <td>0.970000</td>\n",
       "      <td>0.996000</td>\n",
       "      <td>1.000000</td>\n",
       "      <td>1.000000</td>\n",
       "      <td>0.970000</td>\n",
       "      <td>0.332000</td>\n",
       "      <td>0.200000</td>\n",
       "      <td>0.100000</td>\n",
       "      <td>0.970000</td>\n",
       "      <td>0.996000</td>\n",
       "      <td>1.000000</td>\n",
       "      <td>1.000000</td>\n",
       "      <td>0.988127</td>\n",
       "      <td>0.984000</td>\n",
       "      <td>0.984000</td>\n",
       "    </tr>\n",
       "    <tr>\n",
       "      <td>750</td>\n",
       "      <td>0.006900</td>\n",
       "      <td>No log</td>\n",
       "      <td>0.974000</td>\n",
       "      <td>0.998000</td>\n",
       "      <td>1.000000</td>\n",
       "      <td>1.000000</td>\n",
       "      <td>0.974000</td>\n",
       "      <td>0.332667</td>\n",
       "      <td>0.200000</td>\n",
       "      <td>0.100000</td>\n",
       "      <td>0.974000</td>\n",
       "      <td>0.998000</td>\n",
       "      <td>1.000000</td>\n",
       "      <td>1.000000</td>\n",
       "      <td>0.990004</td>\n",
       "      <td>0.986500</td>\n",
       "      <td>0.986500</td>\n",
       "    </tr>\n",
       "  </tbody>\n",
       "</table><p>"
      ],
      "text/plain": [
       "<IPython.core.display.HTML object>"
      ]
     },
     "metadata": {},
     "output_type": "display_data"
    },
    {
     "name": "stderr",
     "output_type": "stream",
     "text": [
      "2025-05-20 09:51:38 - Information Retrieval Evaluation of the model on the nq-val dataset in epoch 1.0 after 250 steps:\n"
     ]
    },
    {
     "data": {
      "application/vnd.jupyter.widget-view+json": {
       "model_id": "80d8204e2f344aeea4f844a4ee0d0f55",
       "version_major": 2,
       "version_minor": 0
      },
      "text/plain": [
       "Batches:   0%|          | 0/32 [00:00<?, ?it/s]"
      ]
     },
     "metadata": {},
     "output_type": "display_data"
    },
    {
     "name": "stderr",
     "output_type": "stream",
     "text": [
      "Corpus Chunks:   0%|          | 0/5 [00:00<?, ?it/s]"
     ]
    },
    {
     "data": {
      "application/vnd.jupyter.widget-view+json": {
       "model_id": "b382b6178817412e85c348dfce82008d",
       "version_major": 2,
       "version_minor": 0
      },
      "text/plain": [
       "Batches:   0%|          | 0/7 [00:00<?, ?it/s]"
      ]
     },
     "metadata": {},
     "output_type": "display_data"
    },
    {
     "name": "stderr",
     "output_type": "stream",
     "text": [
      "Corpus Chunks:  20%|██        | 1/5 [00:00<00:00,  8.20it/s]"
     ]
    },
    {
     "data": {
      "application/vnd.jupyter.widget-view+json": {
       "model_id": "1d97bce01a964675a77c5b92cf412e0f",
       "version_major": 2,
       "version_minor": 0
      },
      "text/plain": [
       "Batches:   0%|          | 0/7 [00:00<?, ?it/s]"
      ]
     },
     "metadata": {},
     "output_type": "display_data"
    },
    {
     "name": "stderr",
     "output_type": "stream",
     "text": [
      "Corpus Chunks:  40%|████      | 2/5 [00:00<00:00,  8.19it/s]"
     ]
    },
    {
     "data": {
      "application/vnd.jupyter.widget-view+json": {
       "model_id": "c5d0c841dac94651be9994e723d0815e",
       "version_major": 2,
       "version_minor": 0
      },
      "text/plain": [
       "Batches:   0%|          | 0/7 [00:00<?, ?it/s]"
      ]
     },
     "metadata": {},
     "output_type": "display_data"
    },
    {
     "name": "stderr",
     "output_type": "stream",
     "text": [
      "Corpus Chunks:  60%|██████    | 3/5 [00:00<00:00,  8.22it/s]"
     ]
    },
    {
     "data": {
      "application/vnd.jupyter.widget-view+json": {
       "model_id": "d42e6f7725b048afae7bf1439ef5e452",
       "version_major": 2,
       "version_minor": 0
      },
      "text/plain": [
       "Batches:   0%|          | 0/7 [00:00<?, ?it/s]"
      ]
     },
     "metadata": {},
     "output_type": "display_data"
    },
    {
     "name": "stderr",
     "output_type": "stream",
     "text": [
      "Corpus Chunks:  80%|████████  | 4/5 [00:00<00:00,  8.26it/s]"
     ]
    },
    {
     "data": {
      "application/vnd.jupyter.widget-view+json": {
       "model_id": "deccecbbee1e44249995e456193acadc",
       "version_major": 2,
       "version_minor": 0
      },
      "text/plain": [
       "Batches:   0%|          | 0/7 [00:00<?, ?it/s]"
      ]
     },
     "metadata": {},
     "output_type": "display_data"
    },
    {
     "name": "stderr",
     "output_type": "stream",
     "text": [
      "Corpus Chunks: 100%|██████████| 5/5 [00:00<00:00,  8.29it/s]\n",
      "2025-05-20 09:51:39 - Queries: 500\n",
      "2025-05-20 09:51:39 - Corpus: 500\n",
      "\n",
      "2025-05-20 09:51:39 - Score-Function: cosine\n",
      "2025-05-20 09:51:39 - Accuracy@1: 97.60%\n",
      "2025-05-20 09:51:39 - Accuracy@3: 99.80%\n",
      "2025-05-20 09:51:39 - Accuracy@5: 100.00%\n",
      "2025-05-20 09:51:39 - Accuracy@10: 100.00%\n",
      "2025-05-20 09:51:39 - Precision@1: 97.60%\n",
      "2025-05-20 09:51:39 - Precision@3: 33.27%\n",
      "2025-05-20 09:51:39 - Precision@5: 20.00%\n",
      "2025-05-20 09:51:39 - Precision@10: 10.00%\n",
      "2025-05-20 09:51:39 - Recall@1: 97.60%\n",
      "2025-05-20 09:51:39 - Recall@3: 99.80%\n",
      "2025-05-20 09:51:39 - Recall@5: 100.00%\n",
      "2025-05-20 09:51:39 - Recall@10: 100.00%\n",
      "2025-05-20 09:51:39 - MRR@10: 0.9872\n",
      "2025-05-20 09:51:39 - NDCG@10: 0.9905\n",
      "2025-05-20 09:51:39 - MAP@100: 0.9872\n",
      "2025-05-20 09:51:39 - Save model to ./models/fine-tuned-embeddings-nq\n",
      "2025-05-20 09:52:05 - Information Retrieval Evaluation of the model on the nq-val dataset in epoch 2.0 after 500 steps:\n"
     ]
    },
    {
     "data": {
      "application/vnd.jupyter.widget-view+json": {
       "model_id": "b9aa6a01467e43398aa5b8cdcfffbfba",
       "version_major": 2,
       "version_minor": 0
      },
      "text/plain": [
       "Batches:   0%|          | 0/32 [00:00<?, ?it/s]"
      ]
     },
     "metadata": {},
     "output_type": "display_data"
    },
    {
     "name": "stderr",
     "output_type": "stream",
     "text": [
      "Corpus Chunks:   0%|          | 0/5 [00:00<?, ?it/s]"
     ]
    },
    {
     "data": {
      "application/vnd.jupyter.widget-view+json": {
       "model_id": "56c89e245ab34444a58352698f0e037c",
       "version_major": 2,
       "version_minor": 0
      },
      "text/plain": [
       "Batches:   0%|          | 0/7 [00:00<?, ?it/s]"
      ]
     },
     "metadata": {},
     "output_type": "display_data"
    },
    {
     "name": "stderr",
     "output_type": "stream",
     "text": [
      "Corpus Chunks:  20%|██        | 1/5 [00:00<00:00,  7.54it/s]"
     ]
    },
    {
     "data": {
      "application/vnd.jupyter.widget-view+json": {
       "model_id": "bdcb07f473ef40c4be9c2b7fd3e7b81e",
       "version_major": 2,
       "version_minor": 0
      },
      "text/plain": [
       "Batches:   0%|          | 0/7 [00:00<?, ?it/s]"
      ]
     },
     "metadata": {},
     "output_type": "display_data"
    },
    {
     "name": "stderr",
     "output_type": "stream",
     "text": [
      "Corpus Chunks:  40%|████      | 2/5 [00:00<00:00,  7.42it/s]"
     ]
    },
    {
     "data": {
      "application/vnd.jupyter.widget-view+json": {
       "model_id": "70147ce21f4540a29be4f44402ce24ec",
       "version_major": 2,
       "version_minor": 0
      },
      "text/plain": [
       "Batches:   0%|          | 0/7 [00:00<?, ?it/s]"
      ]
     },
     "metadata": {},
     "output_type": "display_data"
    },
    {
     "name": "stderr",
     "output_type": "stream",
     "text": [
      "Corpus Chunks:  60%|██████    | 3/5 [00:00<00:00,  7.41it/s]"
     ]
    },
    {
     "data": {
      "application/vnd.jupyter.widget-view+json": {
       "model_id": "4c34876c856b404daa44cac15c3b19d3",
       "version_major": 2,
       "version_minor": 0
      },
      "text/plain": [
       "Batches:   0%|          | 0/7 [00:00<?, ?it/s]"
      ]
     },
     "metadata": {},
     "output_type": "display_data"
    },
    {
     "name": "stderr",
     "output_type": "stream",
     "text": [
      "Corpus Chunks:  80%|████████  | 4/5 [00:00<00:00,  7.43it/s]"
     ]
    },
    {
     "data": {
      "application/vnd.jupyter.widget-view+json": {
       "model_id": "b216fd7647f242c9b1b1eb806e7b971a",
       "version_major": 2,
       "version_minor": 0
      },
      "text/plain": [
       "Batches:   0%|          | 0/7 [00:00<?, ?it/s]"
      ]
     },
     "metadata": {},
     "output_type": "display_data"
    },
    {
     "name": "stderr",
     "output_type": "stream",
     "text": [
      "Corpus Chunks: 100%|██████████| 5/5 [00:00<00:00,  7.44it/s]\n",
      "2025-05-20 09:52:06 - Queries: 500\n",
      "2025-05-20 09:52:06 - Corpus: 500\n",
      "\n",
      "2025-05-20 09:52:06 - Score-Function: cosine\n",
      "2025-05-20 09:52:06 - Accuracy@1: 97.00%\n",
      "2025-05-20 09:52:06 - Accuracy@3: 99.60%\n",
      "2025-05-20 09:52:06 - Accuracy@5: 100.00%\n",
      "2025-05-20 09:52:06 - Accuracy@10: 100.00%\n",
      "2025-05-20 09:52:06 - Precision@1: 97.00%\n",
      "2025-05-20 09:52:06 - Precision@3: 33.20%\n",
      "2025-05-20 09:52:06 - Precision@5: 20.00%\n",
      "2025-05-20 09:52:06 - Precision@10: 10.00%\n",
      "2025-05-20 09:52:06 - Recall@1: 97.00%\n",
      "2025-05-20 09:52:06 - Recall@3: 99.60%\n",
      "2025-05-20 09:52:06 - Recall@5: 100.00%\n",
      "2025-05-20 09:52:06 - Recall@10: 100.00%\n",
      "2025-05-20 09:52:06 - MRR@10: 0.9840\n",
      "2025-05-20 09:52:06 - NDCG@10: 0.9881\n",
      "2025-05-20 09:52:06 - MAP@100: 0.9840\n",
      "2025-05-20 09:52:06 - Information Retrieval Evaluation of the model on the nq-val dataset in epoch 2.0 after 500 steps:\n"
     ]
    },
    {
     "data": {
      "application/vnd.jupyter.widget-view+json": {
       "model_id": "ce267a62b78f44e4b5954f487fc8f893",
       "version_major": 2,
       "version_minor": 0
      },
      "text/plain": [
       "Batches:   0%|          | 0/32 [00:00<?, ?it/s]"
      ]
     },
     "metadata": {},
     "output_type": "display_data"
    },
    {
     "name": "stderr",
     "output_type": "stream",
     "text": [
      "Corpus Chunks:   0%|          | 0/5 [00:00<?, ?it/s]"
     ]
    },
    {
     "data": {
      "application/vnd.jupyter.widget-view+json": {
       "model_id": "4f5f622b75714defa6e8e0051a2f9d6d",
       "version_major": 2,
       "version_minor": 0
      },
      "text/plain": [
       "Batches:   0%|          | 0/7 [00:00<?, ?it/s]"
      ]
     },
     "metadata": {},
     "output_type": "display_data"
    },
    {
     "name": "stderr",
     "output_type": "stream",
     "text": [
      "Corpus Chunks:  20%|██        | 1/5 [00:00<00:00,  7.63it/s]"
     ]
    },
    {
     "data": {
      "application/vnd.jupyter.widget-view+json": {
       "model_id": "6ad9e50c6fda4f22b12c79c8719c45ba",
       "version_major": 2,
       "version_minor": 0
      },
      "text/plain": [
       "Batches:   0%|          | 0/7 [00:00<?, ?it/s]"
      ]
     },
     "metadata": {},
     "output_type": "display_data"
    },
    {
     "name": "stderr",
     "output_type": "stream",
     "text": [
      "Corpus Chunks:  40%|████      | 2/5 [00:00<00:00,  7.65it/s]"
     ]
    },
    {
     "data": {
      "application/vnd.jupyter.widget-view+json": {
       "model_id": "7961177372e241aab275ad1adac13882",
       "version_major": 2,
       "version_minor": 0
      },
      "text/plain": [
       "Batches:   0%|          | 0/7 [00:00<?, ?it/s]"
      ]
     },
     "metadata": {},
     "output_type": "display_data"
    },
    {
     "name": "stderr",
     "output_type": "stream",
     "text": [
      "Corpus Chunks:  60%|██████    | 3/5 [00:00<00:00,  7.61it/s]"
     ]
    },
    {
     "data": {
      "application/vnd.jupyter.widget-view+json": {
       "model_id": "a0afee56c7b44798b5294f7f895dd4d3",
       "version_major": 2,
       "version_minor": 0
      },
      "text/plain": [
       "Batches:   0%|          | 0/7 [00:00<?, ?it/s]"
      ]
     },
     "metadata": {},
     "output_type": "display_data"
    },
    {
     "name": "stderr",
     "output_type": "stream",
     "text": [
      "Corpus Chunks:  80%|████████  | 4/5 [00:00<00:00,  7.50it/s]"
     ]
    },
    {
     "data": {
      "application/vnd.jupyter.widget-view+json": {
       "model_id": "2eedb3127c4e49529adc696f54cdf08e",
       "version_major": 2,
       "version_minor": 0
      },
      "text/plain": [
       "Batches:   0%|          | 0/7 [00:00<?, ?it/s]"
      ]
     },
     "metadata": {},
     "output_type": "display_data"
    },
    {
     "name": "stderr",
     "output_type": "stream",
     "text": [
      "Corpus Chunks: 100%|██████████| 5/5 [00:00<00:00,  7.57it/s]\n",
      "2025-05-20 09:52:07 - Queries: 500\n",
      "2025-05-20 09:52:07 - Corpus: 500\n",
      "\n",
      "2025-05-20 09:52:07 - Score-Function: cosine\n",
      "2025-05-20 09:52:07 - Accuracy@1: 97.00%\n",
      "2025-05-20 09:52:07 - Accuracy@3: 99.60%\n",
      "2025-05-20 09:52:07 - Accuracy@5: 100.00%\n",
      "2025-05-20 09:52:07 - Accuracy@10: 100.00%\n",
      "2025-05-20 09:52:07 - Precision@1: 97.00%\n",
      "2025-05-20 09:52:07 - Precision@3: 33.20%\n",
      "2025-05-20 09:52:07 - Precision@5: 20.00%\n",
      "2025-05-20 09:52:07 - Precision@10: 10.00%\n",
      "2025-05-20 09:52:07 - Recall@1: 97.00%\n",
      "2025-05-20 09:52:07 - Recall@3: 99.60%\n",
      "2025-05-20 09:52:07 - Recall@5: 100.00%\n",
      "2025-05-20 09:52:07 - Recall@10: 100.00%\n",
      "2025-05-20 09:52:07 - MRR@10: 0.9840\n",
      "2025-05-20 09:52:07 - NDCG@10: 0.9881\n",
      "2025-05-20 09:52:08 - MAP@100: 0.9840\n",
      "2025-05-20 09:52:33 - Information Retrieval Evaluation of the model on the nq-val dataset in epoch 3.0 after 750 steps:\n"
     ]
    },
    {
     "data": {
      "application/vnd.jupyter.widget-view+json": {
       "model_id": "5c99ed59c0724d31a3410f9c66570797",
       "version_major": 2,
       "version_minor": 0
      },
      "text/plain": [
       "Batches:   0%|          | 0/32 [00:00<?, ?it/s]"
      ]
     },
     "metadata": {},
     "output_type": "display_data"
    },
    {
     "name": "stderr",
     "output_type": "stream",
     "text": [
      "Corpus Chunks:   0%|          | 0/5 [00:00<?, ?it/s]"
     ]
    },
    {
     "data": {
      "application/vnd.jupyter.widget-view+json": {
       "model_id": "d6fd289057914ee483f735191c9a1b8f",
       "version_major": 2,
       "version_minor": 0
      },
      "text/plain": [
       "Batches:   0%|          | 0/7 [00:00<?, ?it/s]"
      ]
     },
     "metadata": {},
     "output_type": "display_data"
    },
    {
     "name": "stderr",
     "output_type": "stream",
     "text": [
      "Corpus Chunks:  20%|██        | 1/5 [00:00<00:00,  7.51it/s]"
     ]
    },
    {
     "data": {
      "application/vnd.jupyter.widget-view+json": {
       "model_id": "e605fe3257964f459ee2f025181bb8b2",
       "version_major": 2,
       "version_minor": 0
      },
      "text/plain": [
       "Batches:   0%|          | 0/7 [00:00<?, ?it/s]"
      ]
     },
     "metadata": {},
     "output_type": "display_data"
    },
    {
     "name": "stderr",
     "output_type": "stream",
     "text": [
      "Corpus Chunks:  40%|████      | 2/5 [00:00<00:00,  7.47it/s]"
     ]
    },
    {
     "data": {
      "application/vnd.jupyter.widget-view+json": {
       "model_id": "c936b88028674376bd3b23a9ca432d6e",
       "version_major": 2,
       "version_minor": 0
      },
      "text/plain": [
       "Batches:   0%|          | 0/7 [00:00<?, ?it/s]"
      ]
     },
     "metadata": {},
     "output_type": "display_data"
    },
    {
     "name": "stderr",
     "output_type": "stream",
     "text": [
      "Corpus Chunks:  60%|██████    | 3/5 [00:00<00:00,  7.48it/s]"
     ]
    },
    {
     "data": {
      "application/vnd.jupyter.widget-view+json": {
       "model_id": "311a1b2caf4b41a0ba72af8a25c87d8b",
       "version_major": 2,
       "version_minor": 0
      },
      "text/plain": [
       "Batches:   0%|          | 0/7 [00:00<?, ?it/s]"
      ]
     },
     "metadata": {},
     "output_type": "display_data"
    },
    {
     "name": "stderr",
     "output_type": "stream",
     "text": [
      "Corpus Chunks:  80%|████████  | 4/5 [00:00<00:00,  7.37it/s]"
     ]
    },
    {
     "data": {
      "application/vnd.jupyter.widget-view+json": {
       "model_id": "3ec0413730ee4c48943121db3771f352",
       "version_major": 2,
       "version_minor": 0
      },
      "text/plain": [
       "Batches:   0%|          | 0/7 [00:00<?, ?it/s]"
      ]
     },
     "metadata": {},
     "output_type": "display_data"
    },
    {
     "name": "stderr",
     "output_type": "stream",
     "text": [
      "Corpus Chunks: 100%|██████████| 5/5 [00:00<00:00,  7.53it/s]\n",
      "2025-05-20 09:52:34 - Queries: 500\n",
      "2025-05-20 09:52:34 - Corpus: 500\n",
      "\n",
      "2025-05-20 09:52:34 - Score-Function: cosine\n",
      "2025-05-20 09:52:34 - Accuracy@1: 97.40%\n",
      "2025-05-20 09:52:34 - Accuracy@3: 99.80%\n",
      "2025-05-20 09:52:34 - Accuracy@5: 100.00%\n",
      "2025-05-20 09:52:34 - Accuracy@10: 100.00%\n",
      "2025-05-20 09:52:34 - Precision@1: 97.40%\n",
      "2025-05-20 09:52:34 - Precision@3: 33.27%\n",
      "2025-05-20 09:52:34 - Precision@5: 20.00%\n",
      "2025-05-20 09:52:34 - Precision@10: 10.00%\n",
      "2025-05-20 09:52:34 - Recall@1: 97.40%\n",
      "2025-05-20 09:52:34 - Recall@3: 99.80%\n",
      "2025-05-20 09:52:34 - Recall@5: 100.00%\n",
      "2025-05-20 09:52:34 - Recall@10: 100.00%\n",
      "2025-05-20 09:52:34 - MRR@10: 0.9865\n",
      "2025-05-20 09:52:34 - NDCG@10: 0.9900\n",
      "2025-05-20 09:52:34 - MAP@100: 0.9865\n",
      "2025-05-20 09:52:34 - Save model to ./models/fine-tuned-embeddings-nq/final\n"
     ]
    },
    {
     "name": "stdout",
     "output_type": "stream",
     "text": [
      "\n",
      "Fine-tuned model saved to './models/fine-tuned-embeddings-nq/final'\n"
     ]
    }
   ],
   "source": [
    "## Fine-tune the Model\n",
    "\n",
    "print(\"\\nInitializing model for fine-tuning...\")\n",
    "model_name = \"sentence-transformers/all-MiniLM-L6-v2\"  # A good starting point\n",
    "model = SentenceTransformer(model_name)\n",
    "\n",
    "print(\"\\nSetting up loss function...\")\n",
    "train_loss = losses.MultipleNegativesRankingLoss(model)\n",
    "\n",
    "print(\"\\nStarting training...\")\n",
    "model.fit(\n",
    "    train_objectives=[(train_dataloader, train_loss)],\n",
    "    epochs=3,\n",
    "    evaluation_steps=500,\n",
    "    evaluator=evaluator,\n",
    "    output_path=\"./models/fine-tuned-embeddings-nq\",\n",
    "    save_best_model=True,\n",
    "    show_progress_bar=True,\n",
    "    warmup_steps=100\n",
    ")\n",
    "\n",
    "model.save(\"./models/fine-tuned-embeddings-nq/final\")\n",
    "print(\"\\nFine-tuned model saved to './models/fine-tuned-embeddings-nq/final'\")\n",
    "\n",
    "# aa5c27b24d637f82028e2668ad2b2a73dd2fa22c"
   ]
  },
  {
   "cell_type": "code",
   "execution_count": 6,
   "id": "c47c0cdc-30b4-403d-8443-d175ab27d006",
   "metadata": {},
   "outputs": [
    {
     "name": "stderr",
     "output_type": "stream",
     "text": [
      "2025-05-20 09:52:35 - Information Retrieval Evaluation of the model on the nq-val dataset:\n"
     ]
    },
    {
     "name": "stdout",
     "output_type": "stream",
     "text": [
      "\n",
      "Evaluating fine-tuned model...\n"
     ]
    },
    {
     "data": {
      "application/vnd.jupyter.widget-view+json": {
       "model_id": "02d1c3e5653a4ed5970787c767efc03b",
       "version_major": 2,
       "version_minor": 0
      },
      "text/plain": [
       "Batches:   0%|          | 0/32 [00:00<?, ?it/s]"
      ]
     },
     "metadata": {},
     "output_type": "display_data"
    },
    {
     "name": "stderr",
     "output_type": "stream",
     "text": [
      "Corpus Chunks:   0%|          | 0/5 [00:00<?, ?it/s]"
     ]
    },
    {
     "data": {
      "application/vnd.jupyter.widget-view+json": {
       "model_id": "8f5eb08a60994c7ba43c6cd9554f5744",
       "version_major": 2,
       "version_minor": 0
      },
      "text/plain": [
       "Batches:   0%|          | 0/7 [00:00<?, ?it/s]"
      ]
     },
     "metadata": {},
     "output_type": "display_data"
    },
    {
     "name": "stderr",
     "output_type": "stream",
     "text": [
      "Corpus Chunks:  20%|██        | 1/5 [00:00<00:00,  8.09it/s]"
     ]
    },
    {
     "data": {
      "application/vnd.jupyter.widget-view+json": {
       "model_id": "a54881066adf47349ab07784b0e11ea8",
       "version_major": 2,
       "version_minor": 0
      },
      "text/plain": [
       "Batches:   0%|          | 0/7 [00:00<?, ?it/s]"
      ]
     },
     "metadata": {},
     "output_type": "display_data"
    },
    {
     "name": "stderr",
     "output_type": "stream",
     "text": [
      "Corpus Chunks:  40%|████      | 2/5 [00:00<00:00,  8.11it/s]"
     ]
    },
    {
     "data": {
      "application/vnd.jupyter.widget-view+json": {
       "model_id": "7882bbb52ede40ffa92f8d9dca6c7a81",
       "version_major": 2,
       "version_minor": 0
      },
      "text/plain": [
       "Batches:   0%|          | 0/7 [00:00<?, ?it/s]"
      ]
     },
     "metadata": {},
     "output_type": "display_data"
    },
    {
     "name": "stderr",
     "output_type": "stream",
     "text": [
      "Corpus Chunks:  60%|██████    | 3/5 [00:00<00:00,  8.19it/s]"
     ]
    },
    {
     "data": {
      "application/vnd.jupyter.widget-view+json": {
       "model_id": "dd614e6561dc45b583dfdf3ee13ece7c",
       "version_major": 2,
       "version_minor": 0
      },
      "text/plain": [
       "Batches:   0%|          | 0/7 [00:00<?, ?it/s]"
      ]
     },
     "metadata": {},
     "output_type": "display_data"
    },
    {
     "name": "stderr",
     "output_type": "stream",
     "text": [
      "Corpus Chunks:  80%|████████  | 4/5 [00:00<00:00,  8.16it/s]"
     ]
    },
    {
     "data": {
      "application/vnd.jupyter.widget-view+json": {
       "model_id": "b70b91e5b34d445c8fe0ecd0d5a56593",
       "version_major": 2,
       "version_minor": 0
      },
      "text/plain": [
       "Batches:   0%|          | 0/7 [00:00<?, ?it/s]"
      ]
     },
     "metadata": {},
     "output_type": "display_data"
    },
    {
     "name": "stderr",
     "output_type": "stream",
     "text": [
      "Corpus Chunks: 100%|██████████| 5/5 [00:00<00:00,  8.24it/s]\n",
      "2025-05-20 09:52:36 - Queries: 500\n",
      "2025-05-20 09:52:36 - Corpus: 500\n",
      "\n",
      "2025-05-20 09:52:36 - Score-Function: cosine\n",
      "2025-05-20 09:52:36 - Accuracy@1: 97.40%\n",
      "2025-05-20 09:52:36 - Accuracy@3: 99.80%\n",
      "2025-05-20 09:52:36 - Accuracy@5: 100.00%\n",
      "2025-05-20 09:52:36 - Accuracy@10: 100.00%\n",
      "2025-05-20 09:52:36 - Precision@1: 97.40%\n",
      "2025-05-20 09:52:36 - Precision@3: 33.27%\n",
      "2025-05-20 09:52:36 - Precision@5: 20.00%\n",
      "2025-05-20 09:52:36 - Precision@10: 10.00%\n",
      "2025-05-20 09:52:36 - Recall@1: 97.40%\n",
      "2025-05-20 09:52:36 - Recall@3: 99.80%\n",
      "2025-05-20 09:52:36 - Recall@5: 100.00%\n",
      "2025-05-20 09:52:36 - Recall@10: 100.00%\n",
      "2025-05-20 09:52:36 - MRR@10: 0.9865\n",
      "2025-05-20 09:52:36 - NDCG@10: 0.9900\n",
      "2025-05-20 09:52:36 - MAP@100: 0.9865\n"
     ]
    },
    {
     "name": "stdout",
     "output_type": "stream",
     "text": [
      "\n",
      "Fine-tuned model evaluation results:\n",
      "nq-val_cosine_accuracy@1: 0.9740\n",
      "nq-val_cosine_accuracy@3: 0.9980\n",
      "nq-val_cosine_accuracy@5: 1.0000\n",
      "nq-val_cosine_accuracy@10: 1.0000\n",
      "nq-val_cosine_precision@1: 0.9740\n",
      "nq-val_cosine_precision@3: 0.3327\n",
      "nq-val_cosine_precision@5: 0.2000\n",
      "nq-val_cosine_precision@10: 0.1000\n",
      "nq-val_cosine_recall@1: 0.9740\n",
      "nq-val_cosine_recall@3: 0.9980\n",
      "nq-val_cosine_recall@5: 1.0000\n",
      "nq-val_cosine_recall@10: 1.0000\n",
      "nq-val_cosine_ndcg@10: 0.9900\n",
      "nq-val_cosine_mrr@10: 0.9865\n",
      "nq-val_cosine_map@100: 0.9865\n",
      "\n",
      "NDCG Improvement: 0.0016 (absolute) / 0.16% (relative)\n"
     ]
    }
   ],
   "source": [
    "\n",
    "## 7. Evaluate the Fine-tuned Model\n",
    "print(\"\\nEvaluating fine-tuned model...\")\n",
    "fine_tuned_results = evaluator(model)\n",
    "\n",
    "print(\"\\nFine-tuned model evaluation results:\")\n",
    "for metric, value in fine_tuned_results.items():\n",
    "    print(f\"{metric}: {value:.4f}\")\n",
    "\n",
    "# Calculate improvement\n",
    "if 'ndcg_at_10' in fine_tuned_results:\n",
    "    fine_tuned_ndcg10 = fine_tuned_results['ndcg_at_10']\n",
    "elif 'ndcg@10' in fine_tuned_results:\n",
    "    fine_tuned_ndcg10 = fine_tuned_results['ndcg@10']\n",
    "else:\n",
    "    # Use the same metric we used for the base model\n",
    "    ndcg_metrics = [m for m in fine_tuned_results.keys() if 'ndcg' in m.lower()]\n",
    "    if ndcg_metrics and ndcg_metrics[0] in base_results:\n",
    "        ndcg_metric = ndcg_metrics[0]\n",
    "        fine_tuned_ndcg10 = fine_tuned_results[ndcg_metric]\n",
    "    else:\n",
    "        fine_tuned_ndcg10 = 0.0\n",
    "\n",
    "improvement = fine_tuned_ndcg10 - base_ndcg10\n",
    "improvement_percent = (improvement / base_ndcg10) * 100 if base_ndcg10 > 0 else 0\n",
    "\n",
    "print(f\"\\nNDCG Improvement: {improvement:.4f} (absolute) / {improvement_percent:.2f}% (relative)\")\n",
    "\n"
   ]
  },
  {
   "cell_type": "code",
   "execution_count": null,
   "id": "9fd1c93a-9007-4deb-a8c7-91e0730ef0bc",
   "metadata": {},
   "outputs": [],
   "source": [
    "# Base model evaluation results:\n",
    "# nq-val_cosine_accuracy@1: 0.9700\n",
    "# nq-val_cosine_accuracy@3: 0.9980\n",
    "# nq-val_cosine_accuracy@5: 0.9980\n",
    "# nq-val_cosine_accuracy@10: 1.0000\n",
    "# nq-val_cosine_precision@1: 0.9700\n",
    "# nq-val_cosine_precision@3: 0.3327\n",
    "# nq-val_cosine_precision@5: 0.1996\n",
    "# nq-val_cosine_precision@10: 0.1000\n",
    "# nq-val_cosine_recall@1: 0.9700\n",
    "# nq-val_cosine_recall@3: 0.9980\n",
    "# nq-val_cosine_recall@5: 0.9980\n",
    "# nq-val_cosine_recall@10: 1.0000\n",
    "# nq-val_cosine_ndcg@10: 0.9884\n",
    "# nq-val_cosine_mrr@10: 0.9843\n",
    "# nq-val_cosine_map@100: 0.9843\n",
    "# No NDCG@10 found. Using nq-val_cosine_ndcg@10 for comparison: 0.9884"
   ]
  },
  {
   "cell_type": "code",
   "execution_count": 8,
   "id": "5ac14f5c-5b2d-4ac2-82bd-734af0b75a52",
   "metadata": {},
   "outputs": [
    {
     "name": "stderr",
     "output_type": "stream",
     "text": [
      "2025-05-20 09:54:14 - Information Retrieval Evaluation of the model on the nq-test dataset:\n"
     ]
    },
    {
     "name": "stdout",
     "output_type": "stream",
     "text": [
      "\n",
      "Preparing test data for evaluation...\n",
      "\n",
      "Setting up test evaluator...\n",
      "\n",
      "Evaluating base model on test set...\n"
     ]
    },
    {
     "data": {
      "application/vnd.jupyter.widget-view+json": {
       "model_id": "ea1784ef3fe2445c89910a31e529eb55",
       "version_major": 2,
       "version_minor": 0
      },
      "text/plain": [
       "Batches:   0%|          | 0/32 [00:00<?, ?it/s]"
      ]
     },
     "metadata": {},
     "output_type": "display_data"
    },
    {
     "name": "stderr",
     "output_type": "stream",
     "text": [
      "Corpus Chunks:   0%|          | 0/5 [00:00<?, ?it/s]"
     ]
    },
    {
     "data": {
      "application/vnd.jupyter.widget-view+json": {
       "model_id": "0ac621463da04046bda5bf080e316ad5",
       "version_major": 2,
       "version_minor": 0
      },
      "text/plain": [
       "Batches:   0%|          | 0/7 [00:00<?, ?it/s]"
      ]
     },
     "metadata": {},
     "output_type": "display_data"
    },
    {
     "name": "stderr",
     "output_type": "stream",
     "text": [
      "Corpus Chunks:  20%|██        | 1/5 [00:00<00:00,  9.97it/s]"
     ]
    },
    {
     "data": {
      "application/vnd.jupyter.widget-view+json": {
       "model_id": "09b3697b62e24a00a7e6a9af3a045f03",
       "version_major": 2,
       "version_minor": 0
      },
      "text/plain": [
       "Batches:   0%|          | 0/7 [00:00<?, ?it/s]"
      ]
     },
     "metadata": {},
     "output_type": "display_data"
    },
    {
     "name": "stderr",
     "output_type": "stream",
     "text": [
      "Corpus Chunks:  40%|████      | 2/5 [00:00<00:00,  9.51it/s]"
     ]
    },
    {
     "data": {
      "application/vnd.jupyter.widget-view+json": {
       "model_id": "c41941b173664452bc238eb585e2821f",
       "version_major": 2,
       "version_minor": 0
      },
      "text/plain": [
       "Batches:   0%|          | 0/7 [00:00<?, ?it/s]"
      ]
     },
     "metadata": {},
     "output_type": "display_data"
    },
    {
     "name": "stderr",
     "output_type": "stream",
     "text": [
      "Corpus Chunks:  60%|██████    | 3/5 [00:00<00:00,  9.41it/s]"
     ]
    },
    {
     "data": {
      "application/vnd.jupyter.widget-view+json": {
       "model_id": "d87493f84dbc44f9a345910f2913a8fe",
       "version_major": 2,
       "version_minor": 0
      },
      "text/plain": [
       "Batches:   0%|          | 0/7 [00:00<?, ?it/s]"
      ]
     },
     "metadata": {},
     "output_type": "display_data"
    },
    {
     "name": "stderr",
     "output_type": "stream",
     "text": [
      "Corpus Chunks:  80%|████████  | 4/5 [00:00<00:00,  9.45it/s]"
     ]
    },
    {
     "data": {
      "application/vnd.jupyter.widget-view+json": {
       "model_id": "9875e9005708448a96602417af3b70ff",
       "version_major": 2,
       "version_minor": 0
      },
      "text/plain": [
       "Batches:   0%|          | 0/7 [00:00<?, ?it/s]"
      ]
     },
     "metadata": {},
     "output_type": "display_data"
    },
    {
     "name": "stderr",
     "output_type": "stream",
     "text": [
      "Corpus Chunks: 100%|██████████| 5/5 [00:00<00:00,  9.41it/s]\n",
      "2025-05-20 09:54:15 - Queries: 500\n",
      "2025-05-20 09:54:15 - Corpus: 500\n",
      "\n",
      "2025-05-20 09:54:15 - Score-Function: cosine\n",
      "2025-05-20 09:54:15 - Accuracy@1: 96.60%\n",
      "2025-05-20 09:54:15 - Accuracy@3: 99.40%\n",
      "2025-05-20 09:54:15 - Accuracy@5: 99.60%\n",
      "2025-05-20 09:54:15 - Accuracy@10: 99.80%\n",
      "2025-05-20 09:54:15 - Precision@1: 96.60%\n",
      "2025-05-20 09:54:15 - Precision@3: 33.13%\n",
      "2025-05-20 09:54:15 - Precision@5: 19.92%\n",
      "2025-05-20 09:54:15 - Precision@10: 9.98%\n",
      "2025-05-20 09:54:15 - Recall@1: 96.60%\n",
      "2025-05-20 09:54:15 - Recall@3: 99.40%\n",
      "2025-05-20 09:54:15 - Recall@5: 99.60%\n",
      "2025-05-20 09:54:15 - Recall@10: 99.80%\n",
      "2025-05-20 09:54:15 - MRR@10: 0.9800\n",
      "2025-05-20 09:54:15 - NDCG@10: 0.9845\n",
      "2025-05-20 09:54:15 - MAP@100: 0.9801\n",
      "2025-05-20 09:54:15 - Information Retrieval Evaluation of the model on the nq-test dataset:\n"
     ]
    },
    {
     "name": "stdout",
     "output_type": "stream",
     "text": [
      "\n",
      "Base model test evaluation results:\n",
      "nq-test_cosine_accuracy@1: 0.9660\n",
      "nq-test_cosine_accuracy@3: 0.9940\n",
      "nq-test_cosine_accuracy@5: 0.9960\n",
      "nq-test_cosine_accuracy@10: 0.9980\n",
      "nq-test_cosine_precision@1: 0.9660\n",
      "nq-test_cosine_precision@3: 0.3313\n",
      "nq-test_cosine_precision@5: 0.1992\n",
      "nq-test_cosine_precision@10: 0.0998\n",
      "nq-test_cosine_recall@1: 0.9660\n",
      "nq-test_cosine_recall@3: 0.9940\n",
      "nq-test_cosine_recall@5: 0.9960\n",
      "nq-test_cosine_recall@10: 0.9980\n",
      "nq-test_cosine_ndcg@10: 0.9845\n",
      "nq-test_cosine_mrr@10: 0.9800\n",
      "nq-test_cosine_map@100: 0.9801\n",
      "\n",
      "Evaluating fine-tuned model on test set...\n"
     ]
    },
    {
     "data": {
      "application/vnd.jupyter.widget-view+json": {
       "model_id": "cda0bcd910f24933b1b16f64874433ca",
       "version_major": 2,
       "version_minor": 0
      },
      "text/plain": [
       "Batches:   0%|          | 0/32 [00:00<?, ?it/s]"
      ]
     },
     "metadata": {},
     "output_type": "display_data"
    },
    {
     "name": "stderr",
     "output_type": "stream",
     "text": [
      "Corpus Chunks:   0%|          | 0/5 [00:00<?, ?it/s]"
     ]
    },
    {
     "data": {
      "application/vnd.jupyter.widget-view+json": {
       "model_id": "3176993f57704d4783b1f8ec2e5c8554",
       "version_major": 2,
       "version_minor": 0
      },
      "text/plain": [
       "Batches:   0%|          | 0/7 [00:00<?, ?it/s]"
      ]
     },
     "metadata": {},
     "output_type": "display_data"
    },
    {
     "data": {
      "application/vnd.jupyter.widget-view+json": {
       "model_id": "452bb4643e3544a9a67457b6a2279171",
       "version_major": 2,
       "version_minor": 0
      },
      "text/plain": [
       "Batches:   0%|          | 0/7 [00:00<?, ?it/s]"
      ]
     },
     "metadata": {},
     "output_type": "display_data"
    },
    {
     "name": "stderr",
     "output_type": "stream",
     "text": [
      "Corpus Chunks:  40%|████      | 2/5 [00:00<00:00,  9.96it/s]"
     ]
    },
    {
     "data": {
      "application/vnd.jupyter.widget-view+json": {
       "model_id": "b894a8bad48d4debb86c002c3ebfab95",
       "version_major": 2,
       "version_minor": 0
      },
      "text/plain": [
       "Batches:   0%|          | 0/7 [00:00<?, ?it/s]"
      ]
     },
     "metadata": {},
     "output_type": "display_data"
    },
    {
     "name": "stderr",
     "output_type": "stream",
     "text": [
      "Corpus Chunks:  60%|██████    | 3/5 [00:00<00:00,  9.67it/s]"
     ]
    },
    {
     "data": {
      "application/vnd.jupyter.widget-view+json": {
       "model_id": "d662feac67ca40688854d7f25717bbd1",
       "version_major": 2,
       "version_minor": 0
      },
      "text/plain": [
       "Batches:   0%|          | 0/7 [00:00<?, ?it/s]"
      ]
     },
     "metadata": {},
     "output_type": "display_data"
    },
    {
     "name": "stderr",
     "output_type": "stream",
     "text": [
      "Corpus Chunks:  80%|████████  | 4/5 [00:00<00:00,  9.20it/s]"
     ]
    },
    {
     "data": {
      "application/vnd.jupyter.widget-view+json": {
       "model_id": "e0148a75035a44ea987e182114f05556",
       "version_major": 2,
       "version_minor": 0
      },
      "text/plain": [
       "Batches:   0%|          | 0/7 [00:00<?, ?it/s]"
      ]
     },
     "metadata": {},
     "output_type": "display_data"
    },
    {
     "name": "stderr",
     "output_type": "stream",
     "text": [
      "Corpus Chunks: 100%|██████████| 5/5 [00:00<00:00,  9.22it/s]\n",
      "2025-05-20 09:54:16 - Queries: 500\n",
      "2025-05-20 09:54:16 - Corpus: 500\n",
      "\n",
      "2025-05-20 09:54:16 - Score-Function: cosine\n",
      "2025-05-20 09:54:16 - Accuracy@1: 97.40%\n",
      "2025-05-20 09:54:16 - Accuracy@3: 99.40%\n",
      "2025-05-20 09:54:16 - Accuracy@5: 99.60%\n",
      "2025-05-20 09:54:16 - Accuracy@10: 99.80%\n",
      "2025-05-20 09:54:16 - Precision@1: 97.40%\n",
      "2025-05-20 09:54:16 - Precision@3: 33.13%\n",
      "2025-05-20 09:54:16 - Precision@5: 19.92%\n",
      "2025-05-20 09:54:16 - Precision@10: 9.98%\n",
      "2025-05-20 09:54:16 - Recall@1: 97.40%\n",
      "2025-05-20 09:54:16 - Recall@3: 99.40%\n",
      "2025-05-20 09:54:16 - Recall@5: 99.60%\n",
      "2025-05-20 09:54:16 - Recall@10: 99.80%\n",
      "2025-05-20 09:54:16 - MRR@10: 0.9842\n",
      "2025-05-20 09:54:16 - NDCG@10: 0.9877\n",
      "2025-05-20 09:54:16 - MAP@100: 0.9843\n"
     ]
    },
    {
     "name": "stdout",
     "output_type": "stream",
     "text": [
      "\n",
      "Fine-tuned model test evaluation results:\n",
      "nq-test_cosine_accuracy@1: 0.9740\n",
      "nq-test_cosine_accuracy@3: 0.9940\n",
      "nq-test_cosine_accuracy@5: 0.9960\n",
      "nq-test_cosine_accuracy@10: 0.9980\n",
      "nq-test_cosine_precision@1: 0.9740\n",
      "nq-test_cosine_precision@3: 0.3313\n",
      "nq-test_cosine_precision@5: 0.1992\n",
      "nq-test_cosine_precision@10: 0.0998\n",
      "nq-test_cosine_recall@1: 0.9740\n",
      "nq-test_cosine_recall@3: 0.9940\n",
      "nq-test_cosine_recall@5: 0.9960\n",
      "nq-test_cosine_recall@10: 0.9980\n",
      "nq-test_cosine_ndcg@10: 0.9877\n",
      "nq-test_cosine_mrr@10: 0.9842\n",
      "nq-test_cosine_map@100: 0.9843\n"
     ]
    }
   ],
   "source": [
    "# 9. Test with Final Evaluation on Test Set\n",
    "\n",
    "# Prepare test corpus and queries\n",
    "print(\"\\nPreparing test data for evaluation...\")\n",
    "\n",
    "# Create test corpus\n",
    "test_corpus = {}\n",
    "for idx, example in enumerate(test_dataset):\n",
    "    test_corpus[str(idx)] = example[\"answer\"]\n",
    "\n",
    "# Create test queries\n",
    "test_queries = {}\n",
    "for idx, example in enumerate(test_dataset):\n",
    "    test_queries[str(idx)] = example[\"query\"]\n",
    "\n",
    "# Create test relevance data\n",
    "test_relevance = {}\n",
    "for idx in range(len(test_dataset)):\n",
    "    test_relevance[str(idx)] = {str(idx): 1}\n",
    "\n",
    "# Create test evaluator\n",
    "print(\"\\nSetting up test evaluator...\")\n",
    "test_evaluator = InformationRetrievalEvaluator(\n",
    "    queries=test_queries,\n",
    "    corpus=test_corpus,\n",
    "    relevant_docs=test_relevance,\n",
    "    name=\"nq-test\",\n",
    "    show_progress_bar=True,\n",
    "    batch_size=16,\n",
    "    corpus_chunk_size=100\n",
    ")\n",
    "\n",
    "\n",
    "# Evaluate both models on the test set\n",
    "print(\"\\nEvaluating base model on test set...\")\n",
    "base_test_results = test_evaluator(base_model)\n",
    "print(\"\\nBase model test evaluation results:\")\n",
    "for metric, value in base_test_results.items():\n",
    "    print(f\"{metric}: {value:.4f}\")\n",
    "\n",
    "print(\"\\nEvaluating fine-tuned model on test set...\")\n",
    "fine_tuned_test_results = test_evaluator(model)\n",
    "print(\"\\nFine-tuned model test evaluation results:\")\n",
    "for metric, value in fine_tuned_test_results.items():\n",
    "    print(f\"{metric}: {value:.4f}\")\n",
    "\n",
    "# Calculate test improvement\n",
    "if 'ndcg_at_10' in base_test_results and 'ndcg_at_10' in fine_tuned_test_results:\n",
    "    base_test_ndcg = base_test_results['ndcg_at_10']\n",
    "    fine_tuned_test_ndcg = fine_tuned_test_results['ndcg_at_10']\n",
    "    ndcg_key = 'ndcg_at_10'\n",
    "elif 'ndcg@10' in base_test_results and 'ndcg@10' in fine_tuned_test_results:\n",
    "    base_test_ndcg = base_test_results['ndcg@10']\n",
    "    fine_tuned_test_ndcg = fine_tuned_test_results['ndcg@10']\n",
    "    ndcg_key = 'ndcg@10'\n",
    "else:\n",
    "    # Find a common metric\n",
    "    common_metrics = set(base_test_results.keys()) & set(fine_tuned_test_results.keys())\n",
    "    ndcg_metrics = [m for m in common_metrics if 'ndcg' in m.lower()]\n",
    "    if ndcg_metrics:\n",
    "        ndcg_key = ndcg_metrics[0]\n",
    "        base_test_ndcg = base_test_results[ndcg_key]\n",
    "        fine_tuned_test_ndcg = fine_tuned_test_results[ndcg_key]\n",
    "    else:\n",
    "        base_test_ndcg = 0.0\n",
    "        fine_tuned_test_ndcg = 0.0\n",
    "        ndcg_key = \"No NDCG metric found\"\n"
   ]
  },
  {
   "cell_type": "code",
   "execution_count": 10,
   "id": "f7536898-9a43-434a-b665-e7beeb9a493d",
   "metadata": {},
   "outputs": [
    {
     "name": "stdout",
     "output_type": "stream",
     "text": [
      "\n",
      "Test Set nq-test_cosine_ndcg@10 Improvement: 0.0031 (absolute) / 0.32% (relative)\n"
     ]
    },
    {
     "data": {
      "image/png": "[encoded data removed]",
      "text/plain": [
       "<Figure size 1000x600 with 1 Axes>"
      ]
     },
     "metadata": {},
     "output_type": "display_data"
    },
    {
     "name": "stdout",
     "output_type": "stream",
     "text": [
      "\n",
      "Improvement comparison chart saved as 'embedding_improvement.png'\n"
     ]
    }
   ],
   "source": [
    "\n",
    "\n",
    "test_improvement = fine_tuned_test_ndcg - base_test_ndcg\n",
    "test_improvement_percent = (test_improvement / base_test_ndcg) * 100 if base_test_ndcg > 0 else 0\n",
    "\n",
    "print(f\"\\nTest Set {ndcg_key} Improvement: {test_improvement:.4f} (absolute) / {test_improvement_percent:.2f}% (relative)\")\n",
    "\n",
    "# Create visualization for test improvements\n",
    "plt.figure(figsize=(10, 6))\n",
    "plt.bar(['Validation Improvement', 'Test Improvement'], \n",
    "        [improvement_percent, test_improvement_percent], \n",
    "        color=['blue', 'green'])\n",
    "plt.ylabel('Percentage Improvement (%)')\n",
    "plt.title('NDCG Improvements After Fine-tuning')\n",
    "\n",
    "# Add the actual values on top of the bars\n",
    "for i, v in enumerate([improvement_percent, test_improvement_percent]):\n",
    "    plt.text(i, max(v+1, 1), f\"{v:.2f}%\", ha='center')\n",
    "\n",
    "# plt.tight_layout()\n",
    "plt.show()\n",
    "\n",
    "print(\"\\nImprovement comparison chart saved as 'embedding_improvement.png'\")\n"
   ]
  }
 ],
 "metadata": {
  "kernelspec": {
   "display_name": "Python 3 (ipykernel)",
   "language": "python",
   "name": "python3"
  },
  "language_info": {
   "codemirror_mode": {
    "name": "ipython",
    "version": 3
   },
   "file_extension": ".py",
   "mimetype": "text/x-python",
   "name": "python",
   "nbconvert_exporter": "python",
   "pygments_lexer": "ipython3",
   "version": "3.10.12"
  }
 },
 "nbformat": 4,
 "nbformat_minor": 5
}
